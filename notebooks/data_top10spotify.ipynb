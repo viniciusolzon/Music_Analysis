{
 "cells": [
  {
   "cell_type": "markdown",
   "metadata": {},
   "source": [
    "                                            NOTEBOOK PARA ANÁLISE DE DADOS PROJETO-FINAL-ICD"
   ]
  },
  {
   "cell_type": "markdown",
   "metadata": {},
   "source": [
    "    Neste notebook são feitos os tratamentos necessários para o processamento dos dados. Aqui também são feitas diversas análises e gráficos que tratam mais profundamente sobre o conjunto de dados, todavia, já são feitas algumas conclusões sobre esses dados, tal como é obtido uma base para a resposta de algumas perguntas feitas anteriormente"
   ]
  },
  {
   "cell_type": "markdown",
   "metadata": {},
   "source": [
    "## Bibliotecas utilizadas"
   ]
  },
  {
   "cell_type": "code",
   "execution_count": 46,
   "metadata": {},
   "outputs": [],
   "source": [
    "import pandas as pd\n",
    "import numpy as np\n",
    "import seaborn as sns\n",
    "import matplotlib.pyplot as plt\n",
    "from sklearn.cluster import KMeans\n",
    "from sklearn.preprocessing import MinMaxScaler"
   ]
  },
  {
   "cell_type": "markdown",
   "metadata": {},
   "source": [
    "## Importando o csv e o transformando em um DataFrame"
   ]
  },
  {
   "cell_type": "code",
   "execution_count": 47,
   "metadata": {},
   "outputs": [],
   "source": [
    "data = pd.read_csv(r\"/home/vinicius_olzon/Documents/Programacao/Projeto_Final_ICD/top10s.csv\")\n",
    "df = pd.DataFrame(data)"
   ]
  },
  {
   "cell_type": "markdown",
   "metadata": {},
   "source": [
    "## Mostrando as 5 primeiras linhas do dataframe"
   ]
  },
  {
   "cell_type": "code",
   "execution_count": 48,
   "metadata": {},
   "outputs": [
    {
     "data": {
      "text/html": [
       "<div>\n",
       "<style scoped>\n",
       "    .dataframe tbody tr th:only-of-type {\n",
       "        vertical-align: middle;\n",
       "    }\n",
       "\n",
       "    .dataframe tbody tr th {\n",
       "        vertical-align: top;\n",
       "    }\n",
       "\n",
       "    .dataframe thead th {\n",
       "        text-align: right;\n",
       "    }\n",
       "</style>\n",
       "<table border=\"1\" class=\"dataframe\">\n",
       "  <thead>\n",
       "    <tr style=\"text-align: right;\">\n",
       "      <th></th>\n",
       "      <th>Unnamed: 0</th>\n",
       "      <th>title</th>\n",
       "      <th>artist</th>\n",
       "      <th>top genre</th>\n",
       "      <th>year</th>\n",
       "      <th>bpm</th>\n",
       "      <th>nrgy</th>\n",
       "      <th>dnce</th>\n",
       "      <th>dB</th>\n",
       "      <th>live</th>\n",
       "      <th>val</th>\n",
       "      <th>dur</th>\n",
       "      <th>acous</th>\n",
       "      <th>spch</th>\n",
       "      <th>pop</th>\n",
       "    </tr>\n",
       "  </thead>\n",
       "  <tbody>\n",
       "    <tr>\n",
       "      <th>0</th>\n",
       "      <td>1</td>\n",
       "      <td>Hey, Soul Sister</td>\n",
       "      <td>Train</td>\n",
       "      <td>neo mellow</td>\n",
       "      <td>2010</td>\n",
       "      <td>97</td>\n",
       "      <td>89</td>\n",
       "      <td>67</td>\n",
       "      <td>-4</td>\n",
       "      <td>8</td>\n",
       "      <td>80</td>\n",
       "      <td>217</td>\n",
       "      <td>19</td>\n",
       "      <td>4</td>\n",
       "      <td>83</td>\n",
       "    </tr>\n",
       "    <tr>\n",
       "      <th>1</th>\n",
       "      <td>2</td>\n",
       "      <td>Love The Way You Lie</td>\n",
       "      <td>Eminem</td>\n",
       "      <td>detroit hip hop</td>\n",
       "      <td>2010</td>\n",
       "      <td>87</td>\n",
       "      <td>93</td>\n",
       "      <td>75</td>\n",
       "      <td>-5</td>\n",
       "      <td>52</td>\n",
       "      <td>64</td>\n",
       "      <td>263</td>\n",
       "      <td>24</td>\n",
       "      <td>23</td>\n",
       "      <td>82</td>\n",
       "    </tr>\n",
       "    <tr>\n",
       "      <th>2</th>\n",
       "      <td>3</td>\n",
       "      <td>TiK ToK</td>\n",
       "      <td>Kesha</td>\n",
       "      <td>dance pop</td>\n",
       "      <td>2010</td>\n",
       "      <td>120</td>\n",
       "      <td>84</td>\n",
       "      <td>76</td>\n",
       "      <td>-3</td>\n",
       "      <td>29</td>\n",
       "      <td>71</td>\n",
       "      <td>200</td>\n",
       "      <td>10</td>\n",
       "      <td>14</td>\n",
       "      <td>80</td>\n",
       "    </tr>\n",
       "    <tr>\n",
       "      <th>3</th>\n",
       "      <td>4</td>\n",
       "      <td>Bad Romance</td>\n",
       "      <td>Lady Gaga</td>\n",
       "      <td>dance pop</td>\n",
       "      <td>2010</td>\n",
       "      <td>119</td>\n",
       "      <td>92</td>\n",
       "      <td>70</td>\n",
       "      <td>-4</td>\n",
       "      <td>8</td>\n",
       "      <td>71</td>\n",
       "      <td>295</td>\n",
       "      <td>0</td>\n",
       "      <td>4</td>\n",
       "      <td>79</td>\n",
       "    </tr>\n",
       "    <tr>\n",
       "      <th>4</th>\n",
       "      <td>5</td>\n",
       "      <td>Just the Way You Are</td>\n",
       "      <td>Bruno Mars</td>\n",
       "      <td>pop</td>\n",
       "      <td>2010</td>\n",
       "      <td>109</td>\n",
       "      <td>84</td>\n",
       "      <td>64</td>\n",
       "      <td>-5</td>\n",
       "      <td>9</td>\n",
       "      <td>43</td>\n",
       "      <td>221</td>\n",
       "      <td>2</td>\n",
       "      <td>4</td>\n",
       "      <td>78</td>\n",
       "    </tr>\n",
       "  </tbody>\n",
       "</table>\n",
       "</div>"
      ],
      "text/plain": [
       "   Unnamed: 0                 title      artist        top genre  year  bpm  \\\n",
       "0           1      Hey, Soul Sister       Train       neo mellow  2010   97   \n",
       "1           2  Love The Way You Lie      Eminem  detroit hip hop  2010   87   \n",
       "2           3               TiK ToK       Kesha        dance pop  2010  120   \n",
       "3           4           Bad Romance   Lady Gaga        dance pop  2010  119   \n",
       "4           5  Just the Way You Are  Bruno Mars              pop  2010  109   \n",
       "\n",
       "   nrgy  dnce  dB  live  val  dur  acous  spch  pop  \n",
       "0    89    67  -4     8   80  217     19     4   83  \n",
       "1    93    75  -5    52   64  263     24    23   82  \n",
       "2    84    76  -3    29   71  200     10    14   80  \n",
       "3    92    70  -4     8   71  295      0     4   79  \n",
       "4    84    64  -5     9   43  221      2     4   78  "
      ]
     },
     "execution_count": 48,
     "metadata": {},
     "output_type": "execute_result"
    }
   ],
   "source": [
    "df.head(5)\n"
   ]
  },
  {
   "cell_type": "markdown",
   "metadata": {},
   "source": [
    "## Análise e tratamento dos dados\n"
   ]
  },
  {
   "cell_type": "markdown",
   "metadata": {},
   "source": [
    "Aqui foram retiradas algumas colunas irrelevantes para as seguintes análises, não somente, foi checado a existência de elementos nulos ou vazios."
   ]
  },
  {
   "cell_type": "code",
   "execution_count": 49,
   "metadata": {},
   "outputs": [],
   "source": [
    "unnecessary = [\"Unnamed: 0\", \"year\"]\n",
    "musics = df.drop(unnecessary, axis = 1)"
   ]
  },
  {
   "cell_type": "code",
   "execution_count": 50,
   "metadata": {},
   "outputs": [
    {
     "data": {
      "text/plain": [
       "False"
      ]
     },
     "execution_count": 50,
     "metadata": {},
     "output_type": "execute_result"
    }
   ],
   "source": [
    "df.isnull().values.any()"
   ]
  },
  {
   "cell_type": "code",
   "execution_count": 51,
   "metadata": {},
   "outputs": [
    {
     "data": {
      "text/plain": [
       "False"
      ]
     },
     "execution_count": 51,
     "metadata": {},
     "output_type": "execute_result"
    }
   ],
   "source": [
    "df.isna().values.any()"
   ]
  },
  {
   "cell_type": "markdown",
   "metadata": {},
   "source": [
    "## Medidas de centralidade e dispersão"
   ]
  },
  {
   "cell_type": "code",
   "execution_count": 52,
   "metadata": {},
   "outputs": [
    {
     "data": {
      "text/html": [
       "<div>\n",
       "<style scoped>\n",
       "    .dataframe tbody tr th:only-of-type {\n",
       "        vertical-align: middle;\n",
       "    }\n",
       "\n",
       "    .dataframe tbody tr th {\n",
       "        vertical-align: top;\n",
       "    }\n",
       "\n",
       "    .dataframe thead th {\n",
       "        text-align: right;\n",
       "    }\n",
       "</style>\n",
       "<table border=\"1\" class=\"dataframe\">\n",
       "  <thead>\n",
       "    <tr style=\"text-align: right;\">\n",
       "      <th></th>\n",
       "      <th>bpm</th>\n",
       "      <th>nrgy</th>\n",
       "      <th>dnce</th>\n",
       "      <th>dB</th>\n",
       "      <th>live</th>\n",
       "      <th>val</th>\n",
       "      <th>dur</th>\n",
       "      <th>acous</th>\n",
       "      <th>spch</th>\n",
       "      <th>pop</th>\n",
       "    </tr>\n",
       "  </thead>\n",
       "  <tbody>\n",
       "    <tr>\n",
       "      <th>count</th>\n",
       "      <td>603.000000</td>\n",
       "      <td>603.000000</td>\n",
       "      <td>603.000000</td>\n",
       "      <td>603.000000</td>\n",
       "      <td>603.000000</td>\n",
       "      <td>603.000000</td>\n",
       "      <td>603.000000</td>\n",
       "      <td>603.000000</td>\n",
       "      <td>603.000000</td>\n",
       "      <td>603.000000</td>\n",
       "    </tr>\n",
       "    <tr>\n",
       "      <th>mean</th>\n",
       "      <td>118.545605</td>\n",
       "      <td>70.504146</td>\n",
       "      <td>64.379768</td>\n",
       "      <td>-5.578773</td>\n",
       "      <td>17.774461</td>\n",
       "      <td>52.225539</td>\n",
       "      <td>224.674959</td>\n",
       "      <td>14.326700</td>\n",
       "      <td>8.358209</td>\n",
       "      <td>66.520730</td>\n",
       "    </tr>\n",
       "    <tr>\n",
       "      <th>std</th>\n",
       "      <td>24.795358</td>\n",
       "      <td>16.310664</td>\n",
       "      <td>13.378718</td>\n",
       "      <td>2.798020</td>\n",
       "      <td>13.102543</td>\n",
       "      <td>22.513020</td>\n",
       "      <td>34.130059</td>\n",
       "      <td>20.766165</td>\n",
       "      <td>7.483162</td>\n",
       "      <td>14.517746</td>\n",
       "    </tr>\n",
       "    <tr>\n",
       "      <th>min</th>\n",
       "      <td>0.000000</td>\n",
       "      <td>0.000000</td>\n",
       "      <td>0.000000</td>\n",
       "      <td>-60.000000</td>\n",
       "      <td>0.000000</td>\n",
       "      <td>0.000000</td>\n",
       "      <td>134.000000</td>\n",
       "      <td>0.000000</td>\n",
       "      <td>0.000000</td>\n",
       "      <td>0.000000</td>\n",
       "    </tr>\n",
       "    <tr>\n",
       "      <th>25%</th>\n",
       "      <td>100.000000</td>\n",
       "      <td>61.000000</td>\n",
       "      <td>57.000000</td>\n",
       "      <td>-6.000000</td>\n",
       "      <td>9.000000</td>\n",
       "      <td>35.000000</td>\n",
       "      <td>202.000000</td>\n",
       "      <td>2.000000</td>\n",
       "      <td>4.000000</td>\n",
       "      <td>60.000000</td>\n",
       "    </tr>\n",
       "    <tr>\n",
       "      <th>50%</th>\n",
       "      <td>120.000000</td>\n",
       "      <td>74.000000</td>\n",
       "      <td>66.000000</td>\n",
       "      <td>-5.000000</td>\n",
       "      <td>12.000000</td>\n",
       "      <td>52.000000</td>\n",
       "      <td>221.000000</td>\n",
       "      <td>6.000000</td>\n",
       "      <td>5.000000</td>\n",
       "      <td>69.000000</td>\n",
       "    </tr>\n",
       "    <tr>\n",
       "      <th>75%</th>\n",
       "      <td>129.000000</td>\n",
       "      <td>82.000000</td>\n",
       "      <td>73.000000</td>\n",
       "      <td>-4.000000</td>\n",
       "      <td>24.000000</td>\n",
       "      <td>69.000000</td>\n",
       "      <td>239.500000</td>\n",
       "      <td>17.000000</td>\n",
       "      <td>9.000000</td>\n",
       "      <td>76.000000</td>\n",
       "    </tr>\n",
       "    <tr>\n",
       "      <th>max</th>\n",
       "      <td>206.000000</td>\n",
       "      <td>98.000000</td>\n",
       "      <td>97.000000</td>\n",
       "      <td>-2.000000</td>\n",
       "      <td>74.000000</td>\n",
       "      <td>98.000000</td>\n",
       "      <td>424.000000</td>\n",
       "      <td>99.000000</td>\n",
       "      <td>48.000000</td>\n",
       "      <td>99.000000</td>\n",
       "    </tr>\n",
       "  </tbody>\n",
       "</table>\n",
       "</div>"
      ],
      "text/plain": [
       "              bpm        nrgy        dnce          dB        live         val  \\\n",
       "count  603.000000  603.000000  603.000000  603.000000  603.000000  603.000000   \n",
       "mean   118.545605   70.504146   64.379768   -5.578773   17.774461   52.225539   \n",
       "std     24.795358   16.310664   13.378718    2.798020   13.102543   22.513020   \n",
       "min      0.000000    0.000000    0.000000  -60.000000    0.000000    0.000000   \n",
       "25%    100.000000   61.000000   57.000000   -6.000000    9.000000   35.000000   \n",
       "50%    120.000000   74.000000   66.000000   -5.000000   12.000000   52.000000   \n",
       "75%    129.000000   82.000000   73.000000   -4.000000   24.000000   69.000000   \n",
       "max    206.000000   98.000000   97.000000   -2.000000   74.000000   98.000000   \n",
       "\n",
       "              dur       acous        spch         pop  \n",
       "count  603.000000  603.000000  603.000000  603.000000  \n",
       "mean   224.674959   14.326700    8.358209   66.520730  \n",
       "std     34.130059   20.766165    7.483162   14.517746  \n",
       "min    134.000000    0.000000    0.000000    0.000000  \n",
       "25%    202.000000    2.000000    4.000000   60.000000  \n",
       "50%    221.000000    6.000000    5.000000   69.000000  \n",
       "75%    239.500000   17.000000    9.000000   76.000000  \n",
       "max    424.000000   99.000000   48.000000   99.000000  "
      ]
     },
     "execution_count": 52,
     "metadata": {},
     "output_type": "execute_result"
    }
   ],
   "source": [
    "musics.describe()"
   ]
  },
  {
   "cell_type": "markdown",
   "metadata": {},
   "source": [
    "## Boxplots para a demonstração do comportamento de algumas variáveis."
   ]
  },
  {
   "cell_type": "markdown",
   "metadata": {},
   "source": [
    "Boxplot da duração, em segundos, das músicas"
   ]
  },
  {
   "cell_type": "code",
   "execution_count": 53,
   "metadata": {},
   "outputs": [
    {
     "data": {
      "text/plain": [
       "<AxesSubplot:ylabel='dur'>"
      ]
     },
     "execution_count": 53,
     "metadata": {},
     "output_type": "execute_result"
    },
    {
     "data": {
      "image/png": "[encoded data removed]",
      "text/plain": [
       "<Figure size 432x288 with 1 Axes>"
      ]
     },
     "metadata": {
      "needs_background": "light"
     },
     "output_type": "display_data"
    }
   ],
   "source": [
    "sns.boxplot(y = \"dur\",data = musics,color = \"lightblue\")"
   ]
  },
  {
   "cell_type": "markdown",
   "metadata": {},
   "source": [
    "Boxplot sobre a positividade das músicas\n"
   ]
  },
  {
   "cell_type": "code",
   "execution_count": 54,
   "metadata": {},
   "outputs": [
    {
     "data": {
      "text/plain": [
       "<AxesSubplot:ylabel='val'>"
      ]
     },
     "execution_count": 54,
     "metadata": {},
     "output_type": "execute_result"
    },
    {
     "data": {
      "image/png": "[encoded data removed]",
      "text/plain": [
       "<Figure size 432x288 with 1 Axes>"
      ]
     },
     "metadata": {
      "needs_background": "light"
     },
     "output_type": "display_data"
    }
   ],
   "source": [
    "sns.boxplot(y = \"val\",data = musics,color = \"lightblue\")"
   ]
  },
  {
   "cell_type": "markdown",
   "metadata": {},
   "source": [
    "Boxplot do BPM das músicas (Batidas por minuto)"
   ]
  },
  {
   "cell_type": "code",
   "execution_count": 55,
   "metadata": {},
   "outputs": [
    {
     "data": {
      "text/plain": [
       "<AxesSubplot:ylabel='bpm'>"
      ]
     },
     "execution_count": 55,
     "metadata": {},
     "output_type": "execute_result"
    },
    {
     "data": {
      "image/png": "[encoded data removed]",
      "text/plain": [
       "<Figure size 432x288 with 1 Axes>"
      ]
     },
     "metadata": {
      "needs_background": "light"
     },
     "output_type": "display_data"
    }
   ],
   "source": [
    "sns.boxplot(y = \"bpm\", data=musics,color = \"lightblue\")"
   ]
  },
  {
   "cell_type": "markdown",
   "metadata": {},
   "source": [
    "Boxplot da energia das músicas"
   ]
  },
  {
   "cell_type": "code",
   "execution_count": 56,
   "metadata": {},
   "outputs": [
    {
     "data": {
      "text/plain": [
       "<AxesSubplot:ylabel='nrgy'>"
      ]
     },
     "execution_count": 56,
     "metadata": {},
     "output_type": "execute_result"
    },
    {
     "data": {
      "image/png": "[encoded data removed]",
      "text/plain": [
       "<Figure size 432x288 with 1 Axes>"
      ]
     },
     "metadata": {
      "needs_background": "light"
     },
     "output_type": "display_data"
    }
   ],
   "source": [
    "sns.boxplot(y = \"nrgy\",data = musics,color = \"lightblue\")"
   ]
  },
  {
   "cell_type": "markdown",
   "metadata": {},
   "source": [
    "Boxplot da vivacidade das músicas"
   ]
  },
  {
   "cell_type": "code",
   "execution_count": 57,
   "metadata": {},
   "outputs": [
    {
     "data": {
      "text/plain": [
       "<AxesSubplot:ylabel='live'>"
      ]
     },
     "execution_count": 57,
     "metadata": {},
     "output_type": "execute_result"
    },
    {
     "data": {
      "image/png": "[encoded data removed]",
      "text/plain": [
       "<Figure size 432x288 with 1 Axes>"
      ]
     },
     "metadata": {
      "needs_background": "light"
     },
     "output_type": "display_data"
    }
   ],
   "source": [
    "sns.boxplot(y = \"live\",data = musics,color = \"lightblue\")"
   ]
  },
  {
   "cell_type": "markdown",
   "metadata": {},
   "source": [
    "Boxplot da acústica das músicas"
   ]
  },
  {
   "cell_type": "code",
   "execution_count": 58,
   "metadata": {},
   "outputs": [
    {
     "data": {
      "text/plain": [
       "<AxesSubplot:ylabel='acous'>"
      ]
     },
     "execution_count": 58,
     "metadata": {},
     "output_type": "execute_result"
    },
    {
     "data": {
      "image/png": "[encoded data removed]",
      "text/plain": [
       "<Figure size 432x288 with 1 Axes>"
      ]
     },
     "metadata": {
      "needs_background": "light"
     },
     "output_type": "display_data"
    }
   ],
   "source": [
    "sns.boxplot(y = \"acous\",data = musics,color = \"lightblue\")"
   ]
  },
  {
   "cell_type": "markdown",
   "metadata": {},
   "source": [
    "Boxplot de palavras cantadas das músicas"
   ]
  },
  {
   "cell_type": "code",
   "execution_count": 59,
   "metadata": {},
   "outputs": [
    {
     "data": {
      "text/plain": [
       "<AxesSubplot:ylabel='spch'>"
      ]
     },
     "execution_count": 59,
     "metadata": {},
     "output_type": "execute_result"
    },
    {
     "data": {
      "image/png": "[encoded data removed]",
      "text/plain": [
       "<Figure size 432x288 with 1 Axes>"
      ]
     },
     "metadata": {
      "needs_background": "light"
     },
     "output_type": "display_data"
    }
   ],
   "source": [
    "sns.boxplot(y = \"spch\",data = musics,color = \"lightblue\")"
   ]
  },
  {
   "cell_type": "markdown",
   "metadata": {},
   "source": [
    "Boxplot da popularidade das músicas"
   ]
  },
  {
   "cell_type": "code",
   "execution_count": 60,
   "metadata": {},
   "outputs": [
    {
     "data": {
      "text/plain": [
       "<AxesSubplot:ylabel='pop'>"
      ]
     },
     "execution_count": 60,
     "metadata": {},
     "output_type": "execute_result"
    },
    {
     "data": {
      "image/png": "[encoded data removed]",
      "text/plain": [
       "<Figure size 432x288 with 1 Axes>"
      ]
     },
     "metadata": {
      "needs_background": "light"
     },
     "output_type": "display_data"
    }
   ],
   "source": [
    "sns.boxplot(y = \"pop\",data = musics,color = \"lightblue\")"
   ]
  },
  {
   "cell_type": "markdown",
   "metadata": {},
   "source": [
    "Boxplot dos decibéis das músicas (são valores negativos)"
   ]
  },
  {
   "cell_type": "code",
   "execution_count": 61,
   "metadata": {},
   "outputs": [
    {
     "data": {
      "text/plain": [
       "<AxesSubplot:ylabel='dB'>"
      ]
     },
     "execution_count": 61,
     "metadata": {},
     "output_type": "execute_result"
    },
    {
     "data": {
      "image/png": "[encoded data removed]",
      "text/plain": [
       "<Figure size 432x288 with 1 Axes>"
      ]
     },
     "metadata": {
      "needs_background": "light"
     },
     "output_type": "display_data"
    }
   ],
   "source": [
    "sns.boxplot(y = \"dB\",data = musics,color = \"lightblue\")"
   ]
  },
  {
   "cell_type": "markdown",
   "metadata": {},
   "source": [
    "Boxplot da dançabilidade das músicas"
   ]
  },
  {
   "cell_type": "code",
   "execution_count": 62,
   "metadata": {},
   "outputs": [
    {
     "data": {
      "text/plain": [
       "<AxesSubplot:ylabel='dnce'>"
      ]
     },
     "execution_count": 62,
     "metadata": {},
     "output_type": "execute_result"
    },
    {
     "data": {
      "image/png": "[encoded data removed]",
      "text/plain": [
       "<Figure size 432x288 with 1 Axes>"
      ]
     },
     "metadata": {
      "needs_background": "light"
     },
     "output_type": "display_data"
    }
   ],
   "source": [
    "sns.boxplot(y = \"dnce\",data = musics,color = \"lightblue\")"
   ]
  },
  {
   "cell_type": "markdown",
   "metadata": {},
   "source": [
    "## Índices de correlação entre as características musicais"
   ]
  },
  {
   "cell_type": "markdown",
   "metadata": {},
   "source": [
    "Aqui é possível analisar quais características musicais tem mais/menos correlação entre si."
   ]
  },
  {
   "cell_type": "code",
   "execution_count": 63,
   "metadata": {},
   "outputs": [
    {
     "data": {
      "text/html": [
       "<div>\n",
       "<style scoped>\n",
       "    .dataframe tbody tr th:only-of-type {\n",
       "        vertical-align: middle;\n",
       "    }\n",
       "\n",
       "    .dataframe tbody tr th {\n",
       "        vertical-align: top;\n",
       "    }\n",
       "\n",
       "    .dataframe thead th {\n",
       "        text-align: right;\n",
       "    }\n",
       "</style>\n",
       "<table border=\"1\" class=\"dataframe\">\n",
       "  <thead>\n",
       "    <tr style=\"text-align: right;\">\n",
       "      <th></th>\n",
       "      <th>bpm</th>\n",
       "      <th>nrgy</th>\n",
       "      <th>dnce</th>\n",
       "      <th>dB</th>\n",
       "      <th>live</th>\n",
       "      <th>val</th>\n",
       "      <th>dur</th>\n",
       "      <th>acous</th>\n",
       "      <th>spch</th>\n",
       "      <th>pop</th>\n",
       "    </tr>\n",
       "  </thead>\n",
       "  <tbody>\n",
       "    <tr>\n",
       "      <th>bpm</th>\n",
       "      <td>1.0000</td>\n",
       "      <td>0.1262</td>\n",
       "      <td>-0.1313</td>\n",
       "      <td>0.1839</td>\n",
       "      <td>0.0816</td>\n",
       "      <td>0.0160</td>\n",
       "      <td>-0.0294</td>\n",
       "      <td>-0.1133</td>\n",
       "      <td>0.0590</td>\n",
       "      <td>0.0190</td>\n",
       "    </tr>\n",
       "    <tr>\n",
       "      <th>nrgy</th>\n",
       "      <td>0.1262</td>\n",
       "      <td>1.0000</td>\n",
       "      <td>0.1672</td>\n",
       "      <td>0.5375</td>\n",
       "      <td>0.1867</td>\n",
       "      <td>0.4096</td>\n",
       "      <td>-0.1436</td>\n",
       "      <td>-0.5623</td>\n",
       "      <td>0.1073</td>\n",
       "      <td>-0.0576</td>\n",
       "    </tr>\n",
       "    <tr>\n",
       "      <th>dnce</th>\n",
       "      <td>-0.1313</td>\n",
       "      <td>0.1672</td>\n",
       "      <td>1.0000</td>\n",
       "      <td>0.2332</td>\n",
       "      <td>-0.0288</td>\n",
       "      <td>0.5017</td>\n",
       "      <td>-0.1768</td>\n",
       "      <td>-0.2401</td>\n",
       "      <td>-0.0280</td>\n",
       "      <td>0.1161</td>\n",
       "    </tr>\n",
       "    <tr>\n",
       "      <th>dB</th>\n",
       "      <td>0.1839</td>\n",
       "      <td>0.5375</td>\n",
       "      <td>0.2332</td>\n",
       "      <td>1.0000</td>\n",
       "      <td>0.0819</td>\n",
       "      <td>0.2829</td>\n",
       "      <td>-0.1047</td>\n",
       "      <td>-0.1904</td>\n",
       "      <td>-0.0011</td>\n",
       "      <td>0.1569</td>\n",
       "    </tr>\n",
       "    <tr>\n",
       "      <th>live</th>\n",
       "      <td>0.0816</td>\n",
       "      <td>0.1867</td>\n",
       "      <td>-0.0288</td>\n",
       "      <td>0.0819</td>\n",
       "      <td>1.0000</td>\n",
       "      <td>0.0202</td>\n",
       "      <td>0.0983</td>\n",
       "      <td>-0.0982</td>\n",
       "      <td>0.1441</td>\n",
       "      <td>-0.0757</td>\n",
       "    </tr>\n",
       "    <tr>\n",
       "      <th>val</th>\n",
       "      <td>0.0160</td>\n",
       "      <td>0.4096</td>\n",
       "      <td>0.5017</td>\n",
       "      <td>0.2829</td>\n",
       "      <td>0.0202</td>\n",
       "      <td>1.0000</td>\n",
       "      <td>-0.2623</td>\n",
       "      <td>-0.2490</td>\n",
       "      <td>0.1220</td>\n",
       "      <td>0.0390</td>\n",
       "    </tr>\n",
       "    <tr>\n",
       "      <th>dur</th>\n",
       "      <td>-0.0294</td>\n",
       "      <td>-0.1436</td>\n",
       "      <td>-0.1768</td>\n",
       "      <td>-0.1047</td>\n",
       "      <td>0.0983</td>\n",
       "      <td>-0.2623</td>\n",
       "      <td>1.0000</td>\n",
       "      <td>0.0918</td>\n",
       "      <td>0.0546</td>\n",
       "      <td>-0.1044</td>\n",
       "    </tr>\n",
       "    <tr>\n",
       "      <th>acous</th>\n",
       "      <td>-0.1133</td>\n",
       "      <td>-0.5623</td>\n",
       "      <td>-0.2401</td>\n",
       "      <td>-0.1904</td>\n",
       "      <td>-0.0982</td>\n",
       "      <td>-0.2490</td>\n",
       "      <td>0.0918</td>\n",
       "      <td>1.0000</td>\n",
       "      <td>0.0028</td>\n",
       "      <td>0.0267</td>\n",
       "    </tr>\n",
       "    <tr>\n",
       "      <th>spch</th>\n",
       "      <td>0.0590</td>\n",
       "      <td>0.1073</td>\n",
       "      <td>-0.0280</td>\n",
       "      <td>-0.0011</td>\n",
       "      <td>0.1441</td>\n",
       "      <td>0.1220</td>\n",
       "      <td>0.0546</td>\n",
       "      <td>0.0028</td>\n",
       "      <td>1.0000</td>\n",
       "      <td>-0.0415</td>\n",
       "    </tr>\n",
       "    <tr>\n",
       "      <th>pop</th>\n",
       "      <td>0.0190</td>\n",
       "      <td>-0.0576</td>\n",
       "      <td>0.1161</td>\n",
       "      <td>0.1569</td>\n",
       "      <td>-0.0757</td>\n",
       "      <td>0.0390</td>\n",
       "      <td>-0.1044</td>\n",
       "      <td>0.0267</td>\n",
       "      <td>-0.0415</td>\n",
       "      <td>1.0000</td>\n",
       "    </tr>\n",
       "  </tbody>\n",
       "</table>\n",
       "</div>"
      ],
      "text/plain": [
       "          bpm    nrgy    dnce      dB    live     val     dur   acous    spch  \\\n",
       "bpm    1.0000  0.1262 -0.1313  0.1839  0.0816  0.0160 -0.0294 -0.1133  0.0590   \n",
       "nrgy   0.1262  1.0000  0.1672  0.5375  0.1867  0.4096 -0.1436 -0.5623  0.1073   \n",
       "dnce  -0.1313  0.1672  1.0000  0.2332 -0.0288  0.5017 -0.1768 -0.2401 -0.0280   \n",
       "dB     0.1839  0.5375  0.2332  1.0000  0.0819  0.2829 -0.1047 -0.1904 -0.0011   \n",
       "live   0.0816  0.1867 -0.0288  0.0819  1.0000  0.0202  0.0983 -0.0982  0.1441   \n",
       "val    0.0160  0.4096  0.5017  0.2829  0.0202  1.0000 -0.2623 -0.2490  0.1220   \n",
       "dur   -0.0294 -0.1436 -0.1768 -0.1047  0.0983 -0.2623  1.0000  0.0918  0.0546   \n",
       "acous -0.1133 -0.5623 -0.2401 -0.1904 -0.0982 -0.2490  0.0918  1.0000  0.0028   \n",
       "spch   0.0590  0.1073 -0.0280 -0.0011  0.1441  0.1220  0.0546  0.0028  1.0000   \n",
       "pop    0.0190 -0.0576  0.1161  0.1569 -0.0757  0.0390 -0.1044  0.0267 -0.0415   \n",
       "\n",
       "          pop  \n",
       "bpm    0.0190  \n",
       "nrgy  -0.0576  \n",
       "dnce   0.1161  \n",
       "dB     0.1569  \n",
       "live  -0.0757  \n",
       "val    0.0390  \n",
       "dur   -0.1044  \n",
       "acous  0.0267  \n",
       "spch  -0.0415  \n",
       "pop    1.0000  "
      ]
     },
     "execution_count": 63,
     "metadata": {},
     "output_type": "execute_result"
    }
   ],
   "source": [
    "corr = musics.corr().round(decimals = 4)\n",
    "corr"
   ]
  },
  {
   "cell_type": "code",
   "execution_count": 64,
   "metadata": {},
   "outputs": [
    {
     "data": {
      "text/html": [
       "<style type=\"text/css\">\n",
       "#T_59d8e_row0_col0, #T_59d8e_row1_col1, #T_59d8e_row2_col2, #T_59d8e_row3_col3, #T_59d8e_row4_col4, #T_59d8e_row5_col5, #T_59d8e_row6_col6, #T_59d8e_row7_col7, #T_59d8e_row8_col8, #T_59d8e_row9_col9 {\n",
       "  background-color: #b40426;\n",
       "  color: #f1f1f1;\n",
       "}\n",
       "#T_59d8e_row0_col1 {\n",
       "  background-color: #ccd9ed;\n",
       "  color: #000000;\n",
       "}\n",
       "#T_59d8e_row0_col2 {\n",
       "  background-color: #5572df;\n",
       "  color: #f1f1f1;\n",
       "}\n",
       "#T_59d8e_row0_col3 {\n",
       "  background-color: #a3c2fe;\n",
       "  color: #000000;\n",
       "}\n",
       "#T_59d8e_row0_col4, #T_59d8e_row3_col4 {\n",
       "  background-color: #6e90f2;\n",
       "  color: #f1f1f1;\n",
       "}\n",
       "#T_59d8e_row0_col5, #T_59d8e_row8_col4 {\n",
       "  background-color: #82a6fb;\n",
       "  color: #f1f1f1;\n",
       "}\n",
       "#T_59d8e_row0_col6 {\n",
       "  background-color: #7699f6;\n",
       "  color: #f1f1f1;\n",
       "}\n",
       "#T_59d8e_row0_col7, #T_59d8e_row4_col6, #T_59d8e_row9_col2 {\n",
       "  background-color: #9abbff;\n",
       "  color: #000000;\n",
       "}\n",
       "#T_59d8e_row0_col8, #T_59d8e_row1_col6 {\n",
       "  background-color: #5875e1;\n",
       "  color: #f1f1f1;\n",
       "}\n",
       "#T_59d8e_row0_col9 {\n",
       "  background-color: #5d7ce6;\n",
       "  color: #f1f1f1;\n",
       "}\n",
       "#T_59d8e_row1_col0, #T_59d8e_row4_col3 {\n",
       "  background-color: #85a8fc;\n",
       "  color: #f1f1f1;\n",
       "}\n",
       "#T_59d8e_row1_col2 {\n",
       "  background-color: #a9c6fd;\n",
       "  color: #000000;\n",
       "}\n",
       "#T_59d8e_row1_col3 {\n",
       "  background-color: #f3c8b2;\n",
       "  color: #000000;\n",
       "}\n",
       "#T_59d8e_row1_col4 {\n",
       "  background-color: #90b2fe;\n",
       "  color: #000000;\n",
       "}\n",
       "#T_59d8e_row1_col5 {\n",
       "  background-color: #e5d8d1;\n",
       "  color: #000000;\n",
       "}\n",
       "#T_59d8e_row1_col7, #T_59d8e_row2_col0, #T_59d8e_row5_col6, #T_59d8e_row6_col5, #T_59d8e_row6_col9, #T_59d8e_row7_col1, #T_59d8e_row7_col2, #T_59d8e_row7_col3, #T_59d8e_row7_col4, #T_59d8e_row9_col8 {\n",
       "  background-color: #3b4cc0;\n",
       "  color: #f1f1f1;\n",
       "}\n",
       "#T_59d8e_row1_col8 {\n",
       "  background-color: #6788ee;\n",
       "  color: #f1f1f1;\n",
       "}\n",
       "#T_59d8e_row1_col9, #T_59d8e_row7_col8 {\n",
       "  background-color: #465ecf;\n",
       "  color: #f1f1f1;\n",
       "}\n",
       "#T_59d8e_row2_col1 {\n",
       "  background-color: #d4dbe6;\n",
       "  color: #000000;\n",
       "}\n",
       "#T_59d8e_row2_col3 {\n",
       "  background-color: #b2ccfb;\n",
       "  color: #000000;\n",
       "}\n",
       "#T_59d8e_row2_col4 {\n",
       "  background-color: #4e68d8;\n",
       "  color: #f1f1f1;\n",
       "}\n",
       "#T_59d8e_row2_col5 {\n",
       "  background-color: #f2cab5;\n",
       "  color: #000000;\n",
       "}\n",
       "#T_59d8e_row2_col6 {\n",
       "  background-color: #4f69d9;\n",
       "  color: #f1f1f1;\n",
       "}\n",
       "#T_59d8e_row2_col7 {\n",
       "  background-color: #7da0f9;\n",
       "  color: #f1f1f1;\n",
       "}\n",
       "#T_59d8e_row2_col8 {\n",
       "  background-color: #3e51c5;\n",
       "  color: #f1f1f1;\n",
       "}\n",
       "#T_59d8e_row2_col9, #T_59d8e_row5_col7 {\n",
       "  background-color: #7b9ff9;\n",
       "  color: #f1f1f1;\n",
       "}\n",
       "#T_59d8e_row3_col0, #T_59d8e_row7_col6 {\n",
       "  background-color: #97b8ff;\n",
       "  color: #000000;\n",
       "}\n",
       "#T_59d8e_row3_col1 {\n",
       "  background-color: #f7aa8c;\n",
       "  color: #000000;\n",
       "}\n",
       "#T_59d8e_row3_col2 {\n",
       "  background-color: #bad0f8;\n",
       "  color: #000000;\n",
       "}\n",
       "#T_59d8e_row3_col5 {\n",
       "  background-color: #cad8ef;\n",
       "  color: #000000;\n",
       "}\n",
       "#T_59d8e_row3_col6 {\n",
       "  background-color: #6180e9;\n",
       "  color: #f1f1f1;\n",
       "}\n",
       "#T_59d8e_row3_col7, #T_59d8e_row3_col9 {\n",
       "  background-color: #88abfd;\n",
       "  color: #000000;\n",
       "}\n",
       "#T_59d8e_row3_col8 {\n",
       "  background-color: #455cce;\n",
       "  color: #f1f1f1;\n",
       "}\n",
       "#T_59d8e_row4_col0 {\n",
       "  background-color: #779af7;\n",
       "  color: #f1f1f1;\n",
       "}\n",
       "#T_59d8e_row4_col1 {\n",
       "  background-color: #d7dce3;\n",
       "  color: #000000;\n",
       "}\n",
       "#T_59d8e_row4_col2, #T_59d8e_row8_col0, #T_59d8e_row8_col2 {\n",
       "  background-color: #7093f3;\n",
       "  color: #f1f1f1;\n",
       "}\n",
       "#T_59d8e_row4_col5 {\n",
       "  background-color: #84a7fc;\n",
       "  color: #f1f1f1;\n",
       "}\n",
       "#T_59d8e_row4_col7 {\n",
       "  background-color: #9ebeff;\n",
       "  color: #000000;\n",
       "}\n",
       "#T_59d8e_row4_col8, #T_59d8e_row6_col4 {\n",
       "  background-color: #7396f5;\n",
       "  color: #f1f1f1;\n",
       "}\n",
       "#T_59d8e_row4_col9 {\n",
       "  background-color: #4257c9;\n",
       "  color: #f1f1f1;\n",
       "}\n",
       "#T_59d8e_row5_col0, #T_59d8e_row5_col9 {\n",
       "  background-color: #6384eb;\n",
       "  color: #f1f1f1;\n",
       "}\n",
       "#T_59d8e_row5_col1 {\n",
       "  background-color: #f4c5ad;\n",
       "  color: #000000;\n",
       "}\n",
       "#T_59d8e_row5_col2 {\n",
       "  background-color: #f2cbb7;\n",
       "  color: #000000;\n",
       "}\n",
       "#T_59d8e_row5_col3 {\n",
       "  background-color: #bfd3f6;\n",
       "  color: #000000;\n",
       "}\n",
       "#T_59d8e_row5_col4 {\n",
       "  background-color: #5b7ae5;\n",
       "  color: #f1f1f1;\n",
       "}\n",
       "#T_59d8e_row5_col8, #T_59d8e_row8_col3 {\n",
       "  background-color: #6c8ff1;\n",
       "  color: #f1f1f1;\n",
       "}\n",
       "#T_59d8e_row6_col0, #T_59d8e_row6_col8 {\n",
       "  background-color: #5673e0;\n",
       "  color: #f1f1f1;\n",
       "}\n",
       "#T_59d8e_row6_col1 {\n",
       "  background-color: #93b5fe;\n",
       "  color: #000000;\n",
       "}\n",
       "#T_59d8e_row6_col2 {\n",
       "  background-color: #4a63d3;\n",
       "  color: #f1f1f1;\n",
       "}\n",
       "#T_59d8e_row6_col3 {\n",
       "  background-color: #506bda;\n",
       "  color: #f1f1f1;\n",
       "}\n",
       "#T_59d8e_row6_col7 {\n",
       "  background-color: #c6d6f1;\n",
       "  color: #000000;\n",
       "}\n",
       "#T_59d8e_row7_col0 {\n",
       "  background-color: #3f53c6;\n",
       "  color: #f1f1f1;\n",
       "}\n",
       "#T_59d8e_row7_col5 {\n",
       "  background-color: #3d50c3;\n",
       "  color: #f1f1f1;\n",
       "}\n",
       "#T_59d8e_row7_col9 {\n",
       "  background-color: #5f7fe8;\n",
       "  color: #f1f1f1;\n",
       "}\n",
       "#T_59d8e_row8_col1 {\n",
       "  background-color: #c9d7f0;\n",
       "  color: #000000;\n",
       "}\n",
       "#T_59d8e_row8_col5 {\n",
       "  background-color: #9fbfff;\n",
       "  color: #000000;\n",
       "}\n",
       "#T_59d8e_row8_col6 {\n",
       "  background-color: #8db0fe;\n",
       "  color: #000000;\n",
       "}\n",
       "#T_59d8e_row8_col7 {\n",
       "  background-color: #b3cdfb;\n",
       "  color: #000000;\n",
       "}\n",
       "#T_59d8e_row8_col9 {\n",
       "  background-color: #4b64d5;\n",
       "  color: #f1f1f1;\n",
       "}\n",
       "#T_59d8e_row9_col0 {\n",
       "  background-color: #6485ec;\n",
       "  color: #f1f1f1;\n",
       "}\n",
       "#T_59d8e_row9_col1 {\n",
       "  background-color: #a6c4fe;\n",
       "  color: #000000;\n",
       "}\n",
       "#T_59d8e_row9_col3 {\n",
       "  background-color: #9bbcff;\n",
       "  color: #000000;\n",
       "}\n",
       "#T_59d8e_row9_col4 {\n",
       "  background-color: #4055c8;\n",
       "  color: #f1f1f1;\n",
       "}\n",
       "#T_59d8e_row9_col5 {\n",
       "  background-color: #89acfd;\n",
       "  color: #000000;\n",
       "}\n",
       "#T_59d8e_row9_col6 {\n",
       "  background-color: #6282ea;\n",
       "  color: #f1f1f1;\n",
       "}\n",
       "#T_59d8e_row9_col7 {\n",
       "  background-color: #b9d0f9;\n",
       "  color: #000000;\n",
       "}\n",
       "</style>\n",
       "<table id=\"T_59d8e\">\n",
       "  <thead>\n",
       "    <tr>\n",
       "      <th class=\"blank level0\" >&nbsp;</th>\n",
       "      <th id=\"T_59d8e_level0_col0\" class=\"col_heading level0 col0\" >bpm</th>\n",
       "      <th id=\"T_59d8e_level0_col1\" class=\"col_heading level0 col1\" >nrgy</th>\n",
       "      <th id=\"T_59d8e_level0_col2\" class=\"col_heading level0 col2\" >dnce</th>\n",
       "      <th id=\"T_59d8e_level0_col3\" class=\"col_heading level0 col3\" >dB</th>\n",
       "      <th id=\"T_59d8e_level0_col4\" class=\"col_heading level0 col4\" >live</th>\n",
       "      <th id=\"T_59d8e_level0_col5\" class=\"col_heading level0 col5\" >val</th>\n",
       "      <th id=\"T_59d8e_level0_col6\" class=\"col_heading level0 col6\" >dur</th>\n",
       "      <th id=\"T_59d8e_level0_col7\" class=\"col_heading level0 col7\" >acous</th>\n",
       "      <th id=\"T_59d8e_level0_col8\" class=\"col_heading level0 col8\" >spch</th>\n",
       "      <th id=\"T_59d8e_level0_col9\" class=\"col_heading level0 col9\" >pop</th>\n",
       "    </tr>\n",
       "  </thead>\n",
       "  <tbody>\n",
       "    <tr>\n",
       "      <th id=\"T_59d8e_level0_row0\" class=\"row_heading level0 row0\" >bpm</th>\n",
       "      <td id=\"T_59d8e_row0_col0\" class=\"data row0 col0\" >1.000000</td>\n",
       "      <td id=\"T_59d8e_row0_col1\" class=\"data row0 col1\" >0.126200</td>\n",
       "      <td id=\"T_59d8e_row0_col2\" class=\"data row0 col2\" >-0.131300</td>\n",
       "      <td id=\"T_59d8e_row0_col3\" class=\"data row0 col3\" >0.183900</td>\n",
       "      <td id=\"T_59d8e_row0_col4\" class=\"data row0 col4\" >0.081600</td>\n",
       "      <td id=\"T_59d8e_row0_col5\" class=\"data row0 col5\" >0.016000</td>\n",
       "      <td id=\"T_59d8e_row0_col6\" class=\"data row0 col6\" >-0.029400</td>\n",
       "      <td id=\"T_59d8e_row0_col7\" class=\"data row0 col7\" >-0.113300</td>\n",
       "      <td id=\"T_59d8e_row0_col8\" class=\"data row0 col8\" >0.059000</td>\n",
       "      <td id=\"T_59d8e_row0_col9\" class=\"data row0 col9\" >0.019000</td>\n",
       "    </tr>\n",
       "    <tr>\n",
       "      <th id=\"T_59d8e_level0_row1\" class=\"row_heading level0 row1\" >nrgy</th>\n",
       "      <td id=\"T_59d8e_row1_col0\" class=\"data row1 col0\" >0.126200</td>\n",
       "      <td id=\"T_59d8e_row1_col1\" class=\"data row1 col1\" >1.000000</td>\n",
       "      <td id=\"T_59d8e_row1_col2\" class=\"data row1 col2\" >0.167200</td>\n",
       "      <td id=\"T_59d8e_row1_col3\" class=\"data row1 col3\" >0.537500</td>\n",
       "      <td id=\"T_59d8e_row1_col4\" class=\"data row1 col4\" >0.186700</td>\n",
       "      <td id=\"T_59d8e_row1_col5\" class=\"data row1 col5\" >0.409600</td>\n",
       "      <td id=\"T_59d8e_row1_col6\" class=\"data row1 col6\" >-0.143600</td>\n",
       "      <td id=\"T_59d8e_row1_col7\" class=\"data row1 col7\" >-0.562300</td>\n",
       "      <td id=\"T_59d8e_row1_col8\" class=\"data row1 col8\" >0.107300</td>\n",
       "      <td id=\"T_59d8e_row1_col9\" class=\"data row1 col9\" >-0.057600</td>\n",
       "    </tr>\n",
       "    <tr>\n",
       "      <th id=\"T_59d8e_level0_row2\" class=\"row_heading level0 row2\" >dnce</th>\n",
       "      <td id=\"T_59d8e_row2_col0\" class=\"data row2 col0\" >-0.131300</td>\n",
       "      <td id=\"T_59d8e_row2_col1\" class=\"data row2 col1\" >0.167200</td>\n",
       "      <td id=\"T_59d8e_row2_col2\" class=\"data row2 col2\" >1.000000</td>\n",
       "      <td id=\"T_59d8e_row2_col3\" class=\"data row2 col3\" >0.233200</td>\n",
       "      <td id=\"T_59d8e_row2_col4\" class=\"data row2 col4\" >-0.028800</td>\n",
       "      <td id=\"T_59d8e_row2_col5\" class=\"data row2 col5\" >0.501700</td>\n",
       "      <td id=\"T_59d8e_row2_col6\" class=\"data row2 col6\" >-0.176800</td>\n",
       "      <td id=\"T_59d8e_row2_col7\" class=\"data row2 col7\" >-0.240100</td>\n",
       "      <td id=\"T_59d8e_row2_col8\" class=\"data row2 col8\" >-0.028000</td>\n",
       "      <td id=\"T_59d8e_row2_col9\" class=\"data row2 col9\" >0.116100</td>\n",
       "    </tr>\n",
       "    <tr>\n",
       "      <th id=\"T_59d8e_level0_row3\" class=\"row_heading level0 row3\" >dB</th>\n",
       "      <td id=\"T_59d8e_row3_col0\" class=\"data row3 col0\" >0.183900</td>\n",
       "      <td id=\"T_59d8e_row3_col1\" class=\"data row3 col1\" >0.537500</td>\n",
       "      <td id=\"T_59d8e_row3_col2\" class=\"data row3 col2\" >0.233200</td>\n",
       "      <td id=\"T_59d8e_row3_col3\" class=\"data row3 col3\" >1.000000</td>\n",
       "      <td id=\"T_59d8e_row3_col4\" class=\"data row3 col4\" >0.081900</td>\n",
       "      <td id=\"T_59d8e_row3_col5\" class=\"data row3 col5\" >0.282900</td>\n",
       "      <td id=\"T_59d8e_row3_col6\" class=\"data row3 col6\" >-0.104700</td>\n",
       "      <td id=\"T_59d8e_row3_col7\" class=\"data row3 col7\" >-0.190400</td>\n",
       "      <td id=\"T_59d8e_row3_col8\" class=\"data row3 col8\" >-0.001100</td>\n",
       "      <td id=\"T_59d8e_row3_col9\" class=\"data row3 col9\" >0.156900</td>\n",
       "    </tr>\n",
       "    <tr>\n",
       "      <th id=\"T_59d8e_level0_row4\" class=\"row_heading level0 row4\" >live</th>\n",
       "      <td id=\"T_59d8e_row4_col0\" class=\"data row4 col0\" >0.081600</td>\n",
       "      <td id=\"T_59d8e_row4_col1\" class=\"data row4 col1\" >0.186700</td>\n",
       "      <td id=\"T_59d8e_row4_col2\" class=\"data row4 col2\" >-0.028800</td>\n",
       "      <td id=\"T_59d8e_row4_col3\" class=\"data row4 col3\" >0.081900</td>\n",
       "      <td id=\"T_59d8e_row4_col4\" class=\"data row4 col4\" >1.000000</td>\n",
       "      <td id=\"T_59d8e_row4_col5\" class=\"data row4 col5\" >0.020200</td>\n",
       "      <td id=\"T_59d8e_row4_col6\" class=\"data row4 col6\" >0.098300</td>\n",
       "      <td id=\"T_59d8e_row4_col7\" class=\"data row4 col7\" >-0.098200</td>\n",
       "      <td id=\"T_59d8e_row4_col8\" class=\"data row4 col8\" >0.144100</td>\n",
       "      <td id=\"T_59d8e_row4_col9\" class=\"data row4 col9\" >-0.075700</td>\n",
       "    </tr>\n",
       "    <tr>\n",
       "      <th id=\"T_59d8e_level0_row5\" class=\"row_heading level0 row5\" >val</th>\n",
       "      <td id=\"T_59d8e_row5_col0\" class=\"data row5 col0\" >0.016000</td>\n",
       "      <td id=\"T_59d8e_row5_col1\" class=\"data row5 col1\" >0.409600</td>\n",
       "      <td id=\"T_59d8e_row5_col2\" class=\"data row5 col2\" >0.501700</td>\n",
       "      <td id=\"T_59d8e_row5_col3\" class=\"data row5 col3\" >0.282900</td>\n",
       "      <td id=\"T_59d8e_row5_col4\" class=\"data row5 col4\" >0.020200</td>\n",
       "      <td id=\"T_59d8e_row5_col5\" class=\"data row5 col5\" >1.000000</td>\n",
       "      <td id=\"T_59d8e_row5_col6\" class=\"data row5 col6\" >-0.262300</td>\n",
       "      <td id=\"T_59d8e_row5_col7\" class=\"data row5 col7\" >-0.249000</td>\n",
       "      <td id=\"T_59d8e_row5_col8\" class=\"data row5 col8\" >0.122000</td>\n",
       "      <td id=\"T_59d8e_row5_col9\" class=\"data row5 col9\" >0.039000</td>\n",
       "    </tr>\n",
       "    <tr>\n",
       "      <th id=\"T_59d8e_level0_row6\" class=\"row_heading level0 row6\" >dur</th>\n",
       "      <td id=\"T_59d8e_row6_col0\" class=\"data row6 col0\" >-0.029400</td>\n",
       "      <td id=\"T_59d8e_row6_col1\" class=\"data row6 col1\" >-0.143600</td>\n",
       "      <td id=\"T_59d8e_row6_col2\" class=\"data row6 col2\" >-0.176800</td>\n",
       "      <td id=\"T_59d8e_row6_col3\" class=\"data row6 col3\" >-0.104700</td>\n",
       "      <td id=\"T_59d8e_row6_col4\" class=\"data row6 col4\" >0.098300</td>\n",
       "      <td id=\"T_59d8e_row6_col5\" class=\"data row6 col5\" >-0.262300</td>\n",
       "      <td id=\"T_59d8e_row6_col6\" class=\"data row6 col6\" >1.000000</td>\n",
       "      <td id=\"T_59d8e_row6_col7\" class=\"data row6 col7\" >0.091800</td>\n",
       "      <td id=\"T_59d8e_row6_col8\" class=\"data row6 col8\" >0.054600</td>\n",
       "      <td id=\"T_59d8e_row6_col9\" class=\"data row6 col9\" >-0.104400</td>\n",
       "    </tr>\n",
       "    <tr>\n",
       "      <th id=\"T_59d8e_level0_row7\" class=\"row_heading level0 row7\" >acous</th>\n",
       "      <td id=\"T_59d8e_row7_col0\" class=\"data row7 col0\" >-0.113300</td>\n",
       "      <td id=\"T_59d8e_row7_col1\" class=\"data row7 col1\" >-0.562300</td>\n",
       "      <td id=\"T_59d8e_row7_col2\" class=\"data row7 col2\" >-0.240100</td>\n",
       "      <td id=\"T_59d8e_row7_col3\" class=\"data row7 col3\" >-0.190400</td>\n",
       "      <td id=\"T_59d8e_row7_col4\" class=\"data row7 col4\" >-0.098200</td>\n",
       "      <td id=\"T_59d8e_row7_col5\" class=\"data row7 col5\" >-0.249000</td>\n",
       "      <td id=\"T_59d8e_row7_col6\" class=\"data row7 col6\" >0.091800</td>\n",
       "      <td id=\"T_59d8e_row7_col7\" class=\"data row7 col7\" >1.000000</td>\n",
       "      <td id=\"T_59d8e_row7_col8\" class=\"data row7 col8\" >0.002800</td>\n",
       "      <td id=\"T_59d8e_row7_col9\" class=\"data row7 col9\" >0.026700</td>\n",
       "    </tr>\n",
       "    <tr>\n",
       "      <th id=\"T_59d8e_level0_row8\" class=\"row_heading level0 row8\" >spch</th>\n",
       "      <td id=\"T_59d8e_row8_col0\" class=\"data row8 col0\" >0.059000</td>\n",
       "      <td id=\"T_59d8e_row8_col1\" class=\"data row8 col1\" >0.107300</td>\n",
       "      <td id=\"T_59d8e_row8_col2\" class=\"data row8 col2\" >-0.028000</td>\n",
       "      <td id=\"T_59d8e_row8_col3\" class=\"data row8 col3\" >-0.001100</td>\n",
       "      <td id=\"T_59d8e_row8_col4\" class=\"data row8 col4\" >0.144100</td>\n",
       "      <td id=\"T_59d8e_row8_col5\" class=\"data row8 col5\" >0.122000</td>\n",
       "      <td id=\"T_59d8e_row8_col6\" class=\"data row8 col6\" >0.054600</td>\n",
       "      <td id=\"T_59d8e_row8_col7\" class=\"data row8 col7\" >0.002800</td>\n",
       "      <td id=\"T_59d8e_row8_col8\" class=\"data row8 col8\" >1.000000</td>\n",
       "      <td id=\"T_59d8e_row8_col9\" class=\"data row8 col9\" >-0.041500</td>\n",
       "    </tr>\n",
       "    <tr>\n",
       "      <th id=\"T_59d8e_level0_row9\" class=\"row_heading level0 row9\" >pop</th>\n",
       "      <td id=\"T_59d8e_row9_col0\" class=\"data row9 col0\" >0.019000</td>\n",
       "      <td id=\"T_59d8e_row9_col1\" class=\"data row9 col1\" >-0.057600</td>\n",
       "      <td id=\"T_59d8e_row9_col2\" class=\"data row9 col2\" >0.116100</td>\n",
       "      <td id=\"T_59d8e_row9_col3\" class=\"data row9 col3\" >0.156900</td>\n",
       "      <td id=\"T_59d8e_row9_col4\" class=\"data row9 col4\" >-0.075700</td>\n",
       "      <td id=\"T_59d8e_row9_col5\" class=\"data row9 col5\" >0.039000</td>\n",
       "      <td id=\"T_59d8e_row9_col6\" class=\"data row9 col6\" >-0.104400</td>\n",
       "      <td id=\"T_59d8e_row9_col7\" class=\"data row9 col7\" >0.026700</td>\n",
       "      <td id=\"T_59d8e_row9_col8\" class=\"data row9 col8\" >-0.041500</td>\n",
       "      <td id=\"T_59d8e_row9_col9\" class=\"data row9 col9\" >1.000000</td>\n",
       "    </tr>\n",
       "  </tbody>\n",
       "</table>\n"
      ],
      "text/plain": [
       "<pandas.io.formats.style.Styler at 0x7fe4f469f9d0>"
      ]
     },
     "execution_count": 64,
     "metadata": {},
     "output_type": "execute_result"
    }
   ],
   "source": [
    "corr.style.background_gradient(cmap='coolwarm')"
   ]
  },
  {
   "cell_type": "markdown",
   "metadata": {},
   "source": [
    "Aqui foi feita a análise dos índices de correlação com a exclusão da diagonal principal, haja vista que ela faz correlação consigo mesma, logo não faria sentido analisar esses dados. No caso, ela foi preenchida com o valor de 0, após isso, foi feito a análise a partir dos novos valores."
   ]
  },
  {
   "cell_type": "code",
   "execution_count": 65,
   "metadata": {},
   "outputs": [
    {
     "data": {
      "text/html": [
       "<div>\n",
       "<style scoped>\n",
       "    .dataframe tbody tr th:only-of-type {\n",
       "        vertical-align: middle;\n",
       "    }\n",
       "\n",
       "    .dataframe tbody tr th {\n",
       "        vertical-align: top;\n",
       "    }\n",
       "\n",
       "    .dataframe thead th {\n",
       "        text-align: right;\n",
       "    }\n",
       "</style>\n",
       "<table border=\"1\" class=\"dataframe\">\n",
       "  <thead>\n",
       "    <tr style=\"text-align: right;\">\n",
       "      <th></th>\n",
       "      <th>bpm</th>\n",
       "      <th>nrgy</th>\n",
       "      <th>dnce</th>\n",
       "      <th>dB</th>\n",
       "      <th>live</th>\n",
       "      <th>val</th>\n",
       "      <th>dur</th>\n",
       "      <th>acous</th>\n",
       "      <th>spch</th>\n",
       "      <th>pop</th>\n",
       "    </tr>\n",
       "  </thead>\n",
       "  <tbody>\n",
       "    <tr>\n",
       "      <th>bpm</th>\n",
       "      <td>0.0000</td>\n",
       "      <td>0.1262</td>\n",
       "      <td>-0.1313</td>\n",
       "      <td>0.1839</td>\n",
       "      <td>0.0816</td>\n",
       "      <td>0.0160</td>\n",
       "      <td>-0.0294</td>\n",
       "      <td>-0.1133</td>\n",
       "      <td>0.0590</td>\n",
       "      <td>0.0190</td>\n",
       "    </tr>\n",
       "    <tr>\n",
       "      <th>nrgy</th>\n",
       "      <td>0.1262</td>\n",
       "      <td>0.0000</td>\n",
       "      <td>0.1672</td>\n",
       "      <td>0.5375</td>\n",
       "      <td>0.1867</td>\n",
       "      <td>0.4096</td>\n",
       "      <td>-0.1436</td>\n",
       "      <td>-0.5623</td>\n",
       "      <td>0.1073</td>\n",
       "      <td>-0.0576</td>\n",
       "    </tr>\n",
       "    <tr>\n",
       "      <th>dnce</th>\n",
       "      <td>-0.1313</td>\n",
       "      <td>0.1672</td>\n",
       "      <td>0.0000</td>\n",
       "      <td>0.2332</td>\n",
       "      <td>-0.0288</td>\n",
       "      <td>0.5017</td>\n",
       "      <td>-0.1768</td>\n",
       "      <td>-0.2401</td>\n",
       "      <td>-0.0280</td>\n",
       "      <td>0.1161</td>\n",
       "    </tr>\n",
       "    <tr>\n",
       "      <th>dB</th>\n",
       "      <td>0.1839</td>\n",
       "      <td>0.5375</td>\n",
       "      <td>0.2332</td>\n",
       "      <td>0.0000</td>\n",
       "      <td>0.0819</td>\n",
       "      <td>0.2829</td>\n",
       "      <td>-0.1047</td>\n",
       "      <td>-0.1904</td>\n",
       "      <td>-0.0011</td>\n",
       "      <td>0.1569</td>\n",
       "    </tr>\n",
       "    <tr>\n",
       "      <th>live</th>\n",
       "      <td>0.0816</td>\n",
       "      <td>0.1867</td>\n",
       "      <td>-0.0288</td>\n",
       "      <td>0.0819</td>\n",
       "      <td>0.0000</td>\n",
       "      <td>0.0202</td>\n",
       "      <td>0.0983</td>\n",
       "      <td>-0.0982</td>\n",
       "      <td>0.1441</td>\n",
       "      <td>-0.0757</td>\n",
       "    </tr>\n",
       "    <tr>\n",
       "      <th>val</th>\n",
       "      <td>0.0160</td>\n",
       "      <td>0.4096</td>\n",
       "      <td>0.5017</td>\n",
       "      <td>0.2829</td>\n",
       "      <td>0.0202</td>\n",
       "      <td>0.0000</td>\n",
       "      <td>-0.2623</td>\n",
       "      <td>-0.2490</td>\n",
       "      <td>0.1220</td>\n",
       "      <td>0.0390</td>\n",
       "    </tr>\n",
       "    <tr>\n",
       "      <th>dur</th>\n",
       "      <td>-0.0294</td>\n",
       "      <td>-0.1436</td>\n",
       "      <td>-0.1768</td>\n",
       "      <td>-0.1047</td>\n",
       "      <td>0.0983</td>\n",
       "      <td>-0.2623</td>\n",
       "      <td>0.0000</td>\n",
       "      <td>0.0918</td>\n",
       "      <td>0.0546</td>\n",
       "      <td>-0.1044</td>\n",
       "    </tr>\n",
       "    <tr>\n",
       "      <th>acous</th>\n",
       "      <td>-0.1133</td>\n",
       "      <td>-0.5623</td>\n",
       "      <td>-0.2401</td>\n",
       "      <td>-0.1904</td>\n",
       "      <td>-0.0982</td>\n",
       "      <td>-0.2490</td>\n",
       "      <td>0.0918</td>\n",
       "      <td>0.0000</td>\n",
       "      <td>0.0028</td>\n",
       "      <td>0.0267</td>\n",
       "    </tr>\n",
       "    <tr>\n",
       "      <th>spch</th>\n",
       "      <td>0.0590</td>\n",
       "      <td>0.1073</td>\n",
       "      <td>-0.0280</td>\n",
       "      <td>-0.0011</td>\n",
       "      <td>0.1441</td>\n",
       "      <td>0.1220</td>\n",
       "      <td>0.0546</td>\n",
       "      <td>0.0028</td>\n",
       "      <td>0.0000</td>\n",
       "      <td>-0.0415</td>\n",
       "    </tr>\n",
       "    <tr>\n",
       "      <th>pop</th>\n",
       "      <td>0.0190</td>\n",
       "      <td>-0.0576</td>\n",
       "      <td>0.1161</td>\n",
       "      <td>0.1569</td>\n",
       "      <td>-0.0757</td>\n",
       "      <td>0.0390</td>\n",
       "      <td>-0.1044</td>\n",
       "      <td>0.0267</td>\n",
       "      <td>-0.0415</td>\n",
       "      <td>0.0000</td>\n",
       "    </tr>\n",
       "  </tbody>\n",
       "</table>\n",
       "</div>"
      ],
      "text/plain": [
       "          bpm    nrgy    dnce      dB    live     val     dur   acous    spch  \\\n",
       "bpm    0.0000  0.1262 -0.1313  0.1839  0.0816  0.0160 -0.0294 -0.1133  0.0590   \n",
       "nrgy   0.1262  0.0000  0.1672  0.5375  0.1867  0.4096 -0.1436 -0.5623  0.1073   \n",
       "dnce  -0.1313  0.1672  0.0000  0.2332 -0.0288  0.5017 -0.1768 -0.2401 -0.0280   \n",
       "dB     0.1839  0.5375  0.2332  0.0000  0.0819  0.2829 -0.1047 -0.1904 -0.0011   \n",
       "live   0.0816  0.1867 -0.0288  0.0819  0.0000  0.0202  0.0983 -0.0982  0.1441   \n",
       "val    0.0160  0.4096  0.5017  0.2829  0.0202  0.0000 -0.2623 -0.2490  0.1220   \n",
       "dur   -0.0294 -0.1436 -0.1768 -0.1047  0.0983 -0.2623  0.0000  0.0918  0.0546   \n",
       "acous -0.1133 -0.5623 -0.2401 -0.1904 -0.0982 -0.2490  0.0918  0.0000  0.0028   \n",
       "spch   0.0590  0.1073 -0.0280 -0.0011  0.1441  0.1220  0.0546  0.0028  0.0000   \n",
       "pop    0.0190 -0.0576  0.1161  0.1569 -0.0757  0.0390 -0.1044  0.0267 -0.0415   \n",
       "\n",
       "          pop  \n",
       "bpm    0.0190  \n",
       "nrgy  -0.0576  \n",
       "dnce   0.1161  \n",
       "dB     0.1569  \n",
       "live  -0.0757  \n",
       "val    0.0390  \n",
       "dur   -0.1044  \n",
       "acous  0.0267  \n",
       "spch  -0.0415  \n",
       "pop    0.0000  "
      ]
     },
     "execution_count": 65,
     "metadata": {},
     "output_type": "execute_result"
    }
   ],
   "source": [
    "np.fill_diagonal(corr.values, 0)\n",
    "corr"
   ]
  },
  {
   "cell_type": "markdown",
   "metadata": {},
   "source": [
    "Abaixo estão os índices de correlação mais/menos fortes após o tratamento."
   ]
  },
  {
   "cell_type": "code",
   "execution_count": 66,
   "metadata": {},
   "outputs": [
    {
     "data": {
      "text/plain": [
       "bpm      0.1839\n",
       "nrgy     0.5375\n",
       "dnce     0.5017\n",
       "dB       0.5375\n",
       "live     0.1867\n",
       "val      0.5017\n",
       "dur      0.0983\n",
       "acous    0.0918\n",
       "spch     0.1441\n",
       "pop      0.1569\n",
       "dtype: float64"
      ]
     },
     "execution_count": 66,
     "metadata": {},
     "output_type": "execute_result"
    }
   ],
   "source": [
    "corr.max()"
   ]
  },
  {
   "cell_type": "code",
   "execution_count": 67,
   "metadata": {},
   "outputs": [
    {
     "data": {
      "text/plain": [
       "bpm     -0.1313\n",
       "nrgy    -0.5623\n",
       "dnce    -0.2401\n",
       "dB      -0.1904\n",
       "live    -0.0982\n",
       "val     -0.2623\n",
       "dur     -0.2623\n",
       "acous   -0.5623\n",
       "spch    -0.0415\n",
       "pop     -0.1044\n",
       "dtype: float64"
      ]
     },
     "execution_count": 67,
     "metadata": {},
     "output_type": "execute_result"
    }
   ],
   "source": [
    "corr.min()"
   ]
  },
  {
   "cell_type": "markdown",
   "metadata": {},
   "source": [
    "## K_Means"
   ]
  },
  {
   "cell_type": "markdown",
   "metadata": {},
   "source": [
    "Aqui foi feito a clusterização (agrupamento) dos dados, o critério foi definido por quais músicas tem mais popularidade e a quantia de bpm em comum entre si."
   ]
  },
  {
   "cell_type": "markdown",
   "metadata": {},
   "source": [
    "- Antes, foi feita a filtração de algumas colunas do dataframe que não seriam úteis para tal análise:"
   ]
  },
  {
   "cell_type": "code",
   "execution_count": 68,
   "metadata": {},
   "outputs": [],
   "source": [
    "unecessary = [\"top genre\", \"nrgy\", \"dnce\", \"dB\", \"live\", \"val\", \"dur\", \"acous\", \"spch\"]\n",
    "description = [\"top genre\", \"artist\", \"title\"]\n",
    "musics.drop(unecessary, axis = \"columns\", inplace = True)"
   ]
  },
  {
   "cell_type": "markdown",
   "metadata": {},
   "source": [
    "A dsitribuição desses dados:"
   ]
  },
  {
   "cell_type": "code",
   "execution_count": 69,
   "metadata": {},
   "outputs": [
    {
     "data": {
      "text/plain": [
       "<matplotlib.collections.PathCollection at 0x7fe4f4669c70>"
      ]
     },
     "execution_count": 69,
     "metadata": {},
     "output_type": "execute_result"
    },
    {
     "data": {
      "image/png": "[encoded data removed]",
      "text/plain": [
       "<Figure size 432x288 with 1 Axes>"
      ]
     },
     "metadata": {
      "needs_background": "light"
     },
     "output_type": "display_data"
    }
   ],
   "source": [
    "plt.scatter(musics[\"bpm\"], musics[\"pop\"], alpha = 0.6)"
   ]
  },
  {
   "cell_type": "markdown",
   "metadata": {},
   "source": [
    "Primeiramente foi definido a quantia de \"Clusters\", ou grupos, desejados para fazer o agrupamento:"
   ]
  },
  {
   "cell_type": "code",
   "execution_count": 70,
   "metadata": {},
   "outputs": [],
   "source": [
    "km = KMeans(n_clusters = 4)"
   ]
  },
  {
   "cell_type": "markdown",
   "metadata": {},
   "source": [
    "Abaixo já é exibido uma lista esses grupos separados de acordo com a similaridade entre si:"
   ]
  },
  {
   "cell_type": "code",
   "execution_count": 71,
   "metadata": {},
   "outputs": [
    {
     "data": {
      "text/plain": [
       "array([3, 3, 0, 0, 3, 3, 0, 0, 3, 0, 0, 0, 0, 0, 0, 0, 0, 0, 3, 0, 0, 2,\n",
       "       0, 3, 0, 2, 0, 0, 0, 0, 0, 0, 0, 3, 0, 0, 2, 0, 0, 2, 2, 3, 2, 1,\n",
       "       3, 1, 3, 1, 3, 1, 1, 0, 0, 0, 3, 3, 0, 0, 3, 3, 3, 2, 0, 0, 0, 3,\n",
       "       0, 0, 2, 3, 3, 0, 3, 0, 0, 0, 0, 2, 0, 0, 0, 0, 0, 0, 0, 0, 0, 3,\n",
       "       0, 3, 0, 3, 1, 3, 3, 3, 1, 1, 1, 1, 1, 1, 1, 1, 0, 0, 0, 3, 0, 3,\n",
       "       0, 0, 3, 3, 0, 3, 0, 3, 0, 0, 0, 0, 3, 3, 0, 0, 0, 2, 0, 0, 0, 0,\n",
       "       2, 3, 0, 0, 3, 1, 1, 2, 0, 0, 3, 3, 2, 3, 0, 0, 0, 2, 0, 2, 3, 0,\n",
       "       0, 0, 0, 2, 3, 0, 3, 0, 3, 0, 2, 0, 0, 3, 0, 3, 0, 3, 3, 0, 0, 0,\n",
       "       0, 0, 0, 0, 0, 2, 3, 3, 3, 3, 0, 3, 0, 3, 0, 3, 0, 3, 1, 0, 1, 1,\n",
       "       2, 1, 2, 1, 1, 1, 1, 1, 1, 1, 1, 1, 0, 3, 0, 2, 0, 2, 0, 0, 0, 0,\n",
       "       3, 3, 0, 3, 0, 0, 0, 0, 3, 2, 3, 3, 0, 0, 0, 3, 0, 3, 0, 0, 0, 2,\n",
       "       0, 3, 0, 0, 3, 0, 2, 0, 0, 0, 2, 2, 0, 1, 0, 1, 3, 1, 3, 1, 1, 1,\n",
       "       1, 1, 1, 1, 3, 3, 0, 3, 0, 0, 0, 3, 2, 2, 0, 0, 2, 0, 3, 0, 0, 0,\n",
       "       0, 3, 2, 0, 3, 0, 3, 0, 0, 2, 3, 0, 3, 3, 2, 3, 0, 3, 0, 3, 3, 2,\n",
       "       0, 3, 0, 3, 0, 0, 2, 0, 0, 0, 0, 0, 0, 3, 0, 3, 0, 2, 3, 0, 0, 0,\n",
       "       0, 0, 3, 2, 0, 3, 0, 0, 0, 3, 0, 2, 3, 3, 1, 3, 1, 3, 1, 3, 1, 3,\n",
       "       1, 1, 1, 1, 1, 1, 1, 1, 1, 1, 2, 0, 3, 0, 2, 0, 3, 0, 0, 0, 0, 0,\n",
       "       3, 3, 3, 3, 2, 0, 3, 0, 3, 0, 0, 0, 0, 3, 3, 0, 3, 0, 0, 3, 3, 3,\n",
       "       3, 0, 0, 2, 3, 0, 3, 0, 0, 0, 0, 3, 3, 3, 3, 2, 0, 3, 3, 0, 3, 2,\n",
       "       0, 0, 0, 1, 3, 3, 3, 1, 1, 1, 1, 1, 1, 1, 3, 1, 1, 1, 1, 1, 1, 1,\n",
       "       2, 1, 3, 3, 3, 2, 3, 0, 3, 3, 0, 2, 3, 3, 0, 3, 3, 0, 0, 3, 3, 2,\n",
       "       2, 3, 3, 3, 3, 3, 0, 2, 3, 3, 3, 0, 3, 3, 2, 0, 3, 0, 0, 3, 3, 0,\n",
       "       0, 3, 0, 3, 0, 3, 0, 3, 0, 0, 3, 3, 2, 3, 1, 3, 1, 1, 1, 2, 3, 3,\n",
       "       1, 1, 0, 3, 0, 0, 0, 0, 3, 0, 0, 2, 3, 0, 2, 3, 0, 0, 3, 3, 3, 3,\n",
       "       3, 0, 3, 3, 3, 3, 3, 3, 3, 0, 3, 0, 3, 3, 0, 0, 3, 2, 0, 0, 3, 2,\n",
       "       3, 3, 0, 3, 3, 0, 0, 0, 0, 3, 0, 3, 3, 3, 3, 0, 3, 0, 1, 2, 1, 1,\n",
       "       3, 3, 3, 0, 0, 3, 0, 3, 2, 3, 3, 3, 3, 0, 3, 3, 0, 0, 3, 0, 0, 3,\n",
       "       3, 2, 3, 3, 3, 3, 0, 0, 2], dtype=int32)"
      ]
     },
     "execution_count": 71,
     "metadata": {},
     "output_type": "execute_result"
    }
   ],
   "source": [
    "y_predicted = km.fit_predict(musics[[\"bpm\", \"pop\"]])\n",
    "y_predicted"
   ]
  },
  {
   "cell_type": "markdown",
   "metadata": {},
   "source": [
    "Após isso foi inserida uma nova coluna com esses valores no DataFrame:"
   ]
  },
  {
   "cell_type": "code",
   "execution_count": 72,
   "metadata": {},
   "outputs": [
    {
     "data": {
      "text/html": [
       "<div>\n",
       "<style scoped>\n",
       "    .dataframe tbody tr th:only-of-type {\n",
       "        vertical-align: middle;\n",
       "    }\n",
       "\n",
       "    .dataframe tbody tr th {\n",
       "        vertical-align: top;\n",
       "    }\n",
       "\n",
       "    .dataframe thead th {\n",
       "        text-align: right;\n",
       "    }\n",
       "</style>\n",
       "<table border=\"1\" class=\"dataframe\">\n",
       "  <thead>\n",
       "    <tr style=\"text-align: right;\">\n",
       "      <th></th>\n",
       "      <th>title</th>\n",
       "      <th>artist</th>\n",
       "      <th>bpm</th>\n",
       "      <th>pop</th>\n",
       "      <th>cluster</th>\n",
       "    </tr>\n",
       "  </thead>\n",
       "  <tbody>\n",
       "    <tr>\n",
       "      <th>0</th>\n",
       "      <td>Hey, Soul Sister</td>\n",
       "      <td>Train</td>\n",
       "      <td>97</td>\n",
       "      <td>83</td>\n",
       "      <td>3</td>\n",
       "    </tr>\n",
       "    <tr>\n",
       "      <th>1</th>\n",
       "      <td>Love The Way You Lie</td>\n",
       "      <td>Eminem</td>\n",
       "      <td>87</td>\n",
       "      <td>82</td>\n",
       "      <td>3</td>\n",
       "    </tr>\n",
       "    <tr>\n",
       "      <th>2</th>\n",
       "      <td>TiK ToK</td>\n",
       "      <td>Kesha</td>\n",
       "      <td>120</td>\n",
       "      <td>80</td>\n",
       "      <td>0</td>\n",
       "    </tr>\n",
       "    <tr>\n",
       "      <th>3</th>\n",
       "      <td>Bad Romance</td>\n",
       "      <td>Lady Gaga</td>\n",
       "      <td>119</td>\n",
       "      <td>79</td>\n",
       "      <td>0</td>\n",
       "    </tr>\n",
       "    <tr>\n",
       "      <th>4</th>\n",
       "      <td>Just the Way You Are</td>\n",
       "      <td>Bruno Mars</td>\n",
       "      <td>109</td>\n",
       "      <td>78</td>\n",
       "      <td>3</td>\n",
       "    </tr>\n",
       "  </tbody>\n",
       "</table>\n",
       "</div>"
      ],
      "text/plain": [
       "                  title      artist  bpm  pop  cluster\n",
       "0      Hey, Soul Sister       Train   97   83        3\n",
       "1  Love The Way You Lie      Eminem   87   82        3\n",
       "2               TiK ToK       Kesha  120   80        0\n",
       "3           Bad Romance   Lady Gaga  119   79        0\n",
       "4  Just the Way You Are  Bruno Mars  109   78        3"
      ]
     },
     "execution_count": 72,
     "metadata": {},
     "output_type": "execute_result"
    }
   ],
   "source": [
    "musics[\"cluster\"] = y_predicted\n",
    "musics.head()"
   ]
  },
  {
   "cell_type": "markdown",
   "metadata": {},
   "source": [
    "Com os agrupamentos feitos, foi possível fazer um gráfico de dispersão mostrando esse diferentes grupos:"
   ]
  },
  {
   "cell_type": "code",
   "execution_count": 73,
   "metadata": {},
   "outputs": [
    {
     "name": "stderr",
     "output_type": "stream",
     "text": [
      "No artists with labels found to put in legend.  Note that artists whose label start with an underscore are ignored when legend() is called with no argument.\n"
     ]
    },
    {
     "data": {
      "text/plain": [
       "<matplotlib.legend.Legend at 0x7fe4f45d6370>"
      ]
     },
     "execution_count": 73,
     "metadata": {},
     "output_type": "execute_result"
    },
    {
     "data": {
      "image/png": "[encoded data removed]",
      "text/plain": [
       "<Figure size 432x288 with 1 Axes>"
      ]
     },
     "metadata": {
      "needs_background": "light"
     },
     "output_type": "display_data"
    }
   ],
   "source": [
    "df1 = musics[musics[\"cluster\"] == 0 ]\n",
    "df2 = musics[musics[\"cluster\"] == 1 ]\n",
    "df3 = musics[musics[\"cluster\"] == 2 ]\n",
    "df4 = musics[musics[\"cluster\"] == 3 ]\n",
    "\n",
    "plt.scatter(df1[\"bpm\"], df1[\"pop\"], color = \"darkblue\")\n",
    "plt.scatter(df2[\"bpm\"], df2[\"pop\"], color = \"lightgreen\")\n",
    "plt.scatter(df3[\"bpm\"], df3[\"pop\"], color = \"red\")\n",
    "plt.scatter(df4[\"bpm\"], df4[\"pop\"], color = \"grey\")\n",
    "\n",
    "plt.ylabel(\"bpm\")\n",
    "plt.xlabel(\"pop\")\n",
    "\n",
    "plt.legend()"
   ]
  },
  {
   "cell_type": "markdown",
   "metadata": {},
   "source": [
    "Se atente a duas coisas:\n",
    "- Os agrupamentos podem não ser os melhores possíveis\n",
    "- As escalas do eixo x com o eixo y não são proporcionais"
   ]
  },
  {
   "cell_type": "markdown",
   "metadata": {},
   "source": [
    "Então, foi utilizada a função MinMaxScaler() para tratar esses dados de tal forma que variem de 0 até 1."
   ]
  },
  {
   "cell_type": "code",
   "execution_count": 74,
   "metadata": {},
   "outputs": [],
   "source": [
    "scaler = MinMaxScaler()\n",
    "\n",
    "scaler.fit(musics[[\"bpm\"]])\n",
    "musics[\"bpm\"] = scaler.transform(musics[[\"bpm\"]])\n",
    "\n",
    "scaler.fit(musics[[\"pop\"]])\n",
    "musics[\"pop\"] = scaler.transform(musics[[\"pop\"]])"
   ]
  },
  {
   "cell_type": "markdown",
   "metadata": {},
   "source": [
    "Após o tratamento, foi feito novamente o gráfico com esses novos valores."
   ]
  },
  {
   "cell_type": "code",
   "execution_count": 75,
   "metadata": {},
   "outputs": [],
   "source": [
    "y_predicted = km.fit_predict(musics[[\"bpm\", \"pop\"]])"
   ]
  },
  {
   "cell_type": "code",
   "execution_count": 76,
   "metadata": {},
   "outputs": [],
   "source": [
    "musics[\"cluster\"] = y_predicted"
   ]
  },
  {
   "cell_type": "code",
   "execution_count": 77,
   "metadata": {},
   "outputs": [
    {
     "name": "stderr",
     "output_type": "stream",
     "text": [
      "No artists with labels found to put in legend.  Note that artists whose label start with an underscore are ignored when legend() is called with no argument.\n"
     ]
    },
    {
     "data": {
      "text/plain": [
       "<matplotlib.legend.Legend at 0x7fe4f45bafd0>"
      ]
     },
     "execution_count": 77,
     "metadata": {},
     "output_type": "execute_result"
    },
    {
     "data": {
      "image/png": "[encoded data removed]",
      "text/plain": [
       "<Figure size 432x288 with 1 Axes>"
      ]
     },
     "metadata": {
      "needs_background": "light"
     },
     "output_type": "display_data"
    }
   ],
   "source": [
    "df1 = musics[musics[\"cluster\"] == 0 ]\n",
    "df2 = musics[musics[\"cluster\"] == 1 ]\n",
    "df3 = musics[musics[\"cluster\"] == 2 ]\n",
    "df4 = musics[musics[\"cluster\"] == 3 ]\n",
    "\n",
    "plt.scatter(df1[\"bpm\"], df1[\"pop\"], color = \"darkblue\")\n",
    "plt.scatter(df2[\"bpm\"], df2[\"pop\"], color = \"lightgreen\")\n",
    "plt.scatter(df3[\"bpm\"], df3[\"pop\"], color = \"red\")\n",
    "plt.scatter(df4[\"bpm\"], df4[\"pop\"], color = \"grey\")\n",
    "\n",
    "plt.ylabel(\"bpm\")\n",
    "plt.xlabel(\"pop\")\n",
    "\n",
    "plt.legend()"
   ]
  },
  {
   "cell_type": "markdown",
   "metadata": {},
   "source": [
    "Com o gráfico feito, e com o eixo y proporcional ao eixo x, foi inserido os centróides no gráfico para a melhor visualização."
   ]
  },
  {
   "cell_type": "markdown",
   "metadata": {},
   "source": [
    "Abaixo estão as coordenadas dos 4 centróides que serãi inseridos no gráfico:"
   ]
  },
  {
   "cell_type": "code",
   "execution_count": 78,
   "metadata": {},
   "outputs": [
    {
     "data": {
      "text/plain": [
       "array([[0.57538011, 0.33600152],\n",
       "       [0.52804746, 0.77483649],\n",
       "       [0.77559576, 0.7144169 ],\n",
       "       [0.54943728, 0.60827177]])"
      ]
     },
     "execution_count": 78,
     "metadata": {},
     "output_type": "execute_result"
    }
   ],
   "source": [
    "km.cluster_centers_"
   ]
  },
  {
   "cell_type": "code",
   "execution_count": 79,
   "metadata": {},
   "outputs": [
    {
     "data": {
      "text/plain": [
       "<matplotlib.legend.Legend at 0x7fe4f453c070>"
      ]
     },
     "execution_count": 79,
     "metadata": {},
     "output_type": "execute_result"
    },
    {
     "data": {
      "image/png": "[encoded data removed]",
      "text/plain": [
       "<Figure size 432x288 with 1 Axes>"
      ]
     },
     "metadata": {
      "needs_background": "light"
     },
     "output_type": "display_data"
    }
   ],
   "source": [
    "df1 = musics[musics[\"cluster\"] == 0 ]\n",
    "df2 = musics[musics[\"cluster\"] == 1 ]\n",
    "df3 = musics[musics[\"cluster\"] == 2 ]\n",
    "df4 = musics[musics[\"cluster\"] == 3 ]\n",
    "\n",
    "plt.scatter(df1[\"bpm\"], df1[\"pop\"], color = \"darkblue\")\n",
    "plt.scatter(df2[\"bpm\"], df2[\"pop\"], color = \"lightgreen\")\n",
    "plt.scatter(df3[\"bpm\"], df3[\"pop\"], color = \"red\")\n",
    "plt.scatter(df4[\"bpm\"], df4[\"pop\"], color = \"grey\")\n",
    "\n",
    "plt.scatter(km.cluster_centers_[:,0], km.cluster_centers_[:,1], color = \"black\", marker = \"^\", label = \"centroid\")\n",
    "\n",
    "plt.ylabel(\"bpm\")\n",
    "plt.xlabel(\"pop\")\n",
    "\n",
    "plt.legend()"
   ]
  },
  {
   "cell_type": "markdown",
   "metadata": {},
   "source": [
    "Todavia, após todo este processo, fica a dúvida: \"Será que o melhor número de agrupamentos possíveis é realmente 4?\"\n",
    "- Para isso, existe o \"Elbow Method\", ou método do cotovelo, que define o melhor número para K, em que K representa a quantia de agrupamentos."
   ]
  },
  {
   "cell_type": "markdown",
   "metadata": {},
   "source": [
    "Agora para definir o melhor valor para K (Elbow_method):"
   ]
  },
  {
   "cell_type": "code",
   "execution_count": 80,
   "metadata": {},
   "outputs": [],
   "source": [
    "k_range = range(1,10)\n",
    "sse = []\n",
    "\n",
    "for k in k_range:\n",
    "    km = KMeans(n_clusters = k)\n",
    "    km.fit(musics[[\"pop\", \"bpm\"]])\n",
    "    sse.append(km.inertia_)"
   ]
  },
  {
   "cell_type": "markdown",
   "metadata": {},
   "source": [
    "Observe os valores abaixo da lista dos erros médios quadrados, em que há um rápido declinio sobre os três primeiros valores, e em que a partir do quarto valor todos os outros subsequentes seguem um padrão praticamente igual.\n",
    "- Dessa forma, o valor indicado para K é igual a 3."
   ]
  },
  {
   "cell_type": "code",
   "execution_count": 81,
   "metadata": {},
   "outputs": [
    {
     "data": {
      "text/plain": [
       "[21.66740168615586,\n",
       " 13.803321368191256,\n",
       " 9.703062489990234,\n",
       " 7.700964803983472,\n",
       " 6.176498334093489,\n",
       " 5.174479063455576,\n",
       " 4.34183178478201,\n",
       " 3.8726485818222742,\n",
       " 3.496995480706256]"
      ]
     },
     "execution_count": 81,
     "metadata": {},
     "output_type": "execute_result"
    }
   ],
   "source": [
    "sse"
   ]
  },
  {
   "cell_type": "markdown",
   "metadata": {},
   "source": [
    "Não somente, o gráfico abaixo, apesar de não ser tão claro nesse caso, demonstra esse comportamento:"
   ]
  },
  {
   "cell_type": "code",
   "execution_count": 82,
   "metadata": {},
   "outputs": [
    {
     "data": {
      "text/plain": [
       "[<matplotlib.lines.Line2D at 0x7fe4ac67d790>]"
      ]
     },
     "execution_count": 82,
     "metadata": {},
     "output_type": "execute_result"
    },
    {
     "data": {
      "image/png": "[encoded data removed]",
      "text/plain": [
       "<Figure size 432x288 with 1 Axes>"
      ]
     },
     "metadata": {
      "needs_background": "light"
     },
     "output_type": "display_data"
    }
   ],
   "source": [
    "plt.xlabel(\"K\")\n",
    "plt.ylabel(\"Soma dos erros quadrados (SSE)\")\n",
    "plt.plot(k_range, sse)"
   ]
  },
  {
   "cell_type": "markdown",
   "metadata": {},
   "source": [
    "    Logo, o gráfico mais adequado para esse conjunto de dados não é igual ao que foi feito anteriormente, o ideal é feito com o valor de K igual a 3, em que existem três conjuntos de músicas que se assemelham ao se tratar sobre a popularidade relacionada a quantia de bpm (batidas por minuto)."
   ]
  },
  {
   "cell_type": "markdown",
   "metadata": {},
   "source": [
    "Então, é preciso reajustar alguns dados:"
   ]
  },
  {
   "cell_type": "markdown",
   "metadata": {},
   "source": [
    "Definiir a quantia de agrupamentos para 3:"
   ]
  },
  {
   "cell_type": "code",
   "execution_count": 83,
   "metadata": {},
   "outputs": [],
   "source": [
    "km = KMeans(n_clusters = 3)"
   ]
  },
  {
   "cell_type": "markdown",
   "metadata": {},
   "source": [
    "Dividir o DataFrame em 3 conjuntos:"
   ]
  },
  {
   "cell_type": "code",
   "execution_count": 84,
   "metadata": {},
   "outputs": [],
   "source": [
    "y_predicted = km.fit_predict(musics[[\"bpm\", \"pop\"]])"
   ]
  },
  {
   "cell_type": "markdown",
   "metadata": {},
   "source": [
    "Redesignar esses novos grupos na coluna \"cluster\" no DataFrame:"
   ]
  },
  {
   "cell_type": "code",
   "execution_count": 85,
   "metadata": {},
   "outputs": [],
   "source": [
    "musics[\"cluster\"] = y_predicted"
   ]
  },
  {
   "cell_type": "code",
   "execution_count": 86,
   "metadata": {},
   "outputs": [
    {
     "data": {
      "text/plain": [
       "<matplotlib.legend.Legend at 0x7fe4ac5ef100>"
      ]
     },
     "execution_count": 86,
     "metadata": {},
     "output_type": "execute_result"
    },
    {
     "data": {
      "image/png": "[encoded data removed]",
      "text/plain": [
       "<Figure size 432x288 with 1 Axes>"
      ]
     },
     "metadata": {
      "needs_background": "light"
     },
     "output_type": "display_data"
    }
   ],
   "source": [
    "df1 = musics[musics[\"cluster\"] == 0 ]\n",
    "df2 = musics[musics[\"cluster\"] == 1 ]\n",
    "df3 = musics[musics[\"cluster\"] == 2 ]\n",
    "\n",
    "plt.scatter(df1[\"bpm\"], df1[\"pop\"], color = \"darkblue\")\n",
    "plt.scatter(df2[\"bpm\"], df2[\"pop\"], color = \"lightgreen\")\n",
    "plt.scatter(df3[\"bpm\"], df3[\"pop\"], color = \"red\")\n",
    "\n",
    "plt.ylabel(\"bpm\")\n",
    "plt.xlabel(\"pop\")\n",
    "\n",
    "plt.scatter(km.cluster_centers_[:,0], km.cluster_centers_[:,1], color = \"black\", marker = \"^\", label = \"centroid\")\n",
    "\n",
    "plt.legend()"
   ]
  },
  {
   "cell_type": "markdown",
   "metadata": {},
   "source": [
    "Após o gráfico correto ter sido feito, é preciso checar se tais grupos realmente têm características em comum:"
   ]
  },
  {
   "cell_type": "code",
   "execution_count": 87,
   "metadata": {},
   "outputs": [],
   "source": [
    "musics = musics.sort_values(by=\"cluster\", ascending=False)\n",
    "clstr0 = musics[musics[\"cluster\"] == 0]\n",
    "clstr1 = musics[musics[\"cluster\"] == 1]\n",
    "clstr2 = musics[musics[\"cluster\"] == 2]"
   ]
  },
  {
   "cell_type": "code",
   "execution_count": 88,
   "metadata": {},
   "outputs": [
    {
     "data": {
      "text/html": [
       "<div>\n",
       "<style scoped>\n",
       "    .dataframe tbody tr th:only-of-type {\n",
       "        vertical-align: middle;\n",
       "    }\n",
       "\n",
       "    .dataframe tbody tr th {\n",
       "        vertical-align: top;\n",
       "    }\n",
       "\n",
       "    .dataframe thead th {\n",
       "        text-align: right;\n",
       "    }\n",
       "</style>\n",
       "<table border=\"1\" class=\"dataframe\">\n",
       "  <thead>\n",
       "    <tr style=\"text-align: right;\">\n",
       "      <th></th>\n",
       "      <th>bpm</th>\n",
       "      <th>pop</th>\n",
       "      <th>cluster</th>\n",
       "    </tr>\n",
       "  </thead>\n",
       "  <tbody>\n",
       "    <tr>\n",
       "      <th>count</th>\n",
       "      <td>253.000000</td>\n",
       "      <td>253.000000</td>\n",
       "      <td>253.0</td>\n",
       "    </tr>\n",
       "    <tr>\n",
       "      <th>mean</th>\n",
       "      <td>0.494455</td>\n",
       "      <td>0.751268</td>\n",
       "      <td>0.0</td>\n",
       "    </tr>\n",
       "    <tr>\n",
       "      <th>std</th>\n",
       "      <td>0.064889</td>\n",
       "      <td>0.080756</td>\n",
       "      <td>0.0</td>\n",
       "    </tr>\n",
       "    <tr>\n",
       "      <th>min</th>\n",
       "      <td>0.208738</td>\n",
       "      <td>0.565657</td>\n",
       "      <td>0.0</td>\n",
       "    </tr>\n",
       "    <tr>\n",
       "      <th>25%</th>\n",
       "      <td>0.456311</td>\n",
       "      <td>0.696970</td>\n",
       "      <td>0.0</td>\n",
       "    </tr>\n",
       "    <tr>\n",
       "      <th>50%</th>\n",
       "      <td>0.485437</td>\n",
       "      <td>0.757576</td>\n",
       "      <td>0.0</td>\n",
       "    </tr>\n",
       "    <tr>\n",
       "      <th>75%</th>\n",
       "      <td>0.548544</td>\n",
       "      <td>0.797980</td>\n",
       "      <td>0.0</td>\n",
       "    </tr>\n",
       "    <tr>\n",
       "      <th>max</th>\n",
       "      <td>0.616505</td>\n",
       "      <td>1.000000</td>\n",
       "      <td>0.0</td>\n",
       "    </tr>\n",
       "  </tbody>\n",
       "</table>\n",
       "</div>"
      ],
      "text/plain": [
       "              bpm         pop  cluster\n",
       "count  253.000000  253.000000    253.0\n",
       "mean     0.494455    0.751268      0.0\n",
       "std      0.064889    0.080756      0.0\n",
       "min      0.208738    0.565657      0.0\n",
       "25%      0.456311    0.696970      0.0\n",
       "50%      0.485437    0.757576      0.0\n",
       "75%      0.548544    0.797980      0.0\n",
       "max      0.616505    1.000000      0.0"
      ]
     },
     "execution_count": 88,
     "metadata": {},
     "output_type": "execute_result"
    }
   ],
   "source": [
    "clstr0.describe()"
   ]
  },
  {
   "cell_type": "code",
   "execution_count": 89,
   "metadata": {},
   "outputs": [
    {
     "data": {
      "text/html": [
       "<div>\n",
       "<style scoped>\n",
       "    .dataframe tbody tr th:only-of-type {\n",
       "        vertical-align: middle;\n",
       "    }\n",
       "\n",
       "    .dataframe tbody tr th {\n",
       "        vertical-align: top;\n",
       "    }\n",
       "\n",
       "    .dataframe thead th {\n",
       "        text-align: right;\n",
       "    }\n",
       "</style>\n",
       "<table border=\"1\" class=\"dataframe\">\n",
       "  <thead>\n",
       "    <tr style=\"text-align: right;\">\n",
       "      <th></th>\n",
       "      <th>bpm</th>\n",
       "      <th>pop</th>\n",
       "      <th>cluster</th>\n",
       "    </tr>\n",
       "  </thead>\n",
       "  <tbody>\n",
       "    <tr>\n",
       "      <th>count</th>\n",
       "      <td>238.000000</td>\n",
       "      <td>238.000000</td>\n",
       "      <td>238.0</td>\n",
       "    </tr>\n",
       "    <tr>\n",
       "      <th>mean</th>\n",
       "      <td>0.675410</td>\n",
       "      <td>0.697267</td>\n",
       "      <td>1.0</td>\n",
       "    </tr>\n",
       "    <tr>\n",
       "      <th>std</th>\n",
       "      <td>0.095404</td>\n",
       "      <td>0.076744</td>\n",
       "      <td>0.0</td>\n",
       "    </tr>\n",
       "    <tr>\n",
       "      <th>min</th>\n",
       "      <td>0.577670</td>\n",
       "      <td>0.505051</td>\n",
       "      <td>1.0</td>\n",
       "    </tr>\n",
       "    <tr>\n",
       "      <th>25%</th>\n",
       "      <td>0.611650</td>\n",
       "      <td>0.646465</td>\n",
       "      <td>1.0</td>\n",
       "    </tr>\n",
       "    <tr>\n",
       "      <th>50%</th>\n",
       "      <td>0.631068</td>\n",
       "      <td>0.696970</td>\n",
       "      <td>1.0</td>\n",
       "    </tr>\n",
       "    <tr>\n",
       "      <th>75%</th>\n",
       "      <td>0.718447</td>\n",
       "      <td>0.744949</td>\n",
       "      <td>1.0</td>\n",
       "    </tr>\n",
       "    <tr>\n",
       "      <th>max</th>\n",
       "      <td>1.000000</td>\n",
       "      <td>0.909091</td>\n",
       "      <td>1.0</td>\n",
       "    </tr>\n",
       "  </tbody>\n",
       "</table>\n",
       "</div>"
      ],
      "text/plain": [
       "              bpm         pop  cluster\n",
       "count  238.000000  238.000000    238.0\n",
       "mean     0.675410    0.697267      1.0\n",
       "std      0.095404    0.076744      0.0\n",
       "min      0.577670    0.505051      1.0\n",
       "25%      0.611650    0.646465      1.0\n",
       "50%      0.631068    0.696970      1.0\n",
       "75%      0.718447    0.744949      1.0\n",
       "max      1.000000    0.909091      1.0"
      ]
     },
     "execution_count": 89,
     "metadata": {},
     "output_type": "execute_result"
    }
   ],
   "source": [
    "clstr1.describe()"
   ]
  },
  {
   "cell_type": "code",
   "execution_count": 90,
   "metadata": {},
   "outputs": [
    {
     "data": {
      "text/html": [
       "<div>\n",
       "<style scoped>\n",
       "    .dataframe tbody tr th:only-of-type {\n",
       "        vertical-align: middle;\n",
       "    }\n",
       "\n",
       "    .dataframe tbody tr th {\n",
       "        vertical-align: top;\n",
       "    }\n",
       "\n",
       "    .dataframe thead th {\n",
       "        text-align: right;\n",
       "    }\n",
       "</style>\n",
       "<table border=\"1\" class=\"dataframe\">\n",
       "  <thead>\n",
       "    <tr style=\"text-align: right;\">\n",
       "      <th></th>\n",
       "      <th>bpm</th>\n",
       "      <th>pop</th>\n",
       "      <th>cluster</th>\n",
       "    </tr>\n",
       "  </thead>\n",
       "  <tbody>\n",
       "    <tr>\n",
       "      <th>count</th>\n",
       "      <td>112.000000</td>\n",
       "      <td>112.000000</td>\n",
       "      <td>112.0</td>\n",
       "    </tr>\n",
       "    <tr>\n",
       "      <th>mean</th>\n",
       "      <td>0.546073</td>\n",
       "      <td>0.438853</td>\n",
       "      <td>2.0</td>\n",
       "    </tr>\n",
       "    <tr>\n",
       "      <th>std</th>\n",
       "      <td>0.111057</td>\n",
       "      <td>0.136781</td>\n",
       "      <td>0.0</td>\n",
       "    </tr>\n",
       "    <tr>\n",
       "      <th>min</th>\n",
       "      <td>0.000000</td>\n",
       "      <td>0.000000</td>\n",
       "      <td>2.0</td>\n",
       "    </tr>\n",
       "    <tr>\n",
       "      <th>25%</th>\n",
       "      <td>0.485437</td>\n",
       "      <td>0.383838</td>\n",
       "      <td>2.0</td>\n",
       "    </tr>\n",
       "    <tr>\n",
       "      <th>50%</th>\n",
       "      <td>0.553398</td>\n",
       "      <td>0.479798</td>\n",
       "      <td>2.0</td>\n",
       "    </tr>\n",
       "    <tr>\n",
       "      <th>75%</th>\n",
       "      <td>0.611650</td>\n",
       "      <td>0.527778</td>\n",
       "      <td>2.0</td>\n",
       "    </tr>\n",
       "    <tr>\n",
       "      <th>max</th>\n",
       "      <td>0.980583</td>\n",
       "      <td>0.575758</td>\n",
       "      <td>2.0</td>\n",
       "    </tr>\n",
       "  </tbody>\n",
       "</table>\n",
       "</div>"
      ],
      "text/plain": [
       "              bpm         pop  cluster\n",
       "count  112.000000  112.000000    112.0\n",
       "mean     0.546073    0.438853      2.0\n",
       "std      0.111057    0.136781      0.0\n",
       "min      0.000000    0.000000      2.0\n",
       "25%      0.485437    0.383838      2.0\n",
       "50%      0.553398    0.479798      2.0\n",
       "75%      0.611650    0.527778      2.0\n",
       "max      0.980583    0.575758      2.0"
      ]
     },
     "execution_count": 90,
     "metadata": {},
     "output_type": "execute_result"
    }
   ],
   "source": [
    "clstr2.describe()"
   ]
  }
 ],
 "metadata": {
  "interpreter": {
   "hash": "916dbcbb3f70747c44a77c7bcd40155683ae19c65e1c03b4aa3499c5328201f1"
  },
  "kernelspec": {
   "display_name": "Python 3.8.10 64-bit",
   "language": "python",
   "name": "python3"
  },
  "language_info": {
   "codemirror_mode": {
    "name": "ipython",
    "version": 3
   },
   "file_extension": ".py",
   "mimetype": "text/x-python",
   "name": "python",
   "nbconvert_exporter": "python",
   "pygments_lexer": "ipython3",
   "version": "3.8.10"
  },
  "orig_nbformat": 4
 },
 "nbformat": 4,
 "nbformat_minor": 2
}
