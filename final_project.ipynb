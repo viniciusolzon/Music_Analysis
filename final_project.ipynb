{
 "cells": [
  {
   "cell_type": "markdown",
   "metadata": {},
   "source": [
    "# Título"
   ]
  },
  {
   "cell_type": "markdown",
   "metadata": {},
   "source": [
    "# Integrantes \n",
    "### Vinicius Freitas Schiavinato Olzon                   | Matrícula: 20210026803\n",
    "### Gabriel de Lucca                                     | Matrícula: y\n",
    "### José Jesus                                           | Matrícula: z"
   ]
  },
  {
   "cell_type": "markdown",
   "metadata": {},
   "source": [
    "# Introdução"
   ]
  },
  {
   "cell_type": "markdown",
   "metadata": {},
   "source": [
    "A música está diretamente ligada a história da humanidade, em que a primeira música já feita data de 1.400 a.C., conhecida como Hino Hurriano para Nikkal, a qual foi feita em homenagem à deusa Nikkal, em que o autor é desconhecido, todavia, existem registros arqueológicos de instrumentos musicais precários que se assemelham a uma espécie de flauta que confirmam a relação da humanidade com a música desde 40.000 a.C.. Não somente, a música é capaz de expressar sentimentos que muitas vezes não são bem expostos da forma desejada com palavras e gestos, de tal forma que ela nasce como forma de socialização entre nós humanos, sendo desenvolvida com base nas sensações geradas a partir de estímulos sonoros.\n",
    "\n",
    "Com o passar dos séculos, houveram diversas mudanças culturais, sociais e econômicas, contudo, algo que permaneceu igual foi a necessidade e vontade da humanidade de expressar suas frustrações e alegrias conforme o cenário atual da época, ou tão somente para a poesia, romance e outras formas de socialização com a comunidade. Assim, nada mais justo do que estudar algumas características musicais de diferentes períodos e analisar suas diferenças afim de obter informações, que, serão tomadas como fundamento para formular conclusões acerca do tema. "
   ]
  },
  {
   "cell_type": "markdown",
   "metadata": {},
   "source": [
    "# Objetivos"
   ]
  },
  {
   "cell_type": "markdown",
   "metadata": {},
   "source": [
    "Dessa forma, o objetivo desse projeto é, a partir da análise, limpeza e processamento dos dados, saber como as características musicais das canções se relacionam entre si, quais padrões musicais são detectados e descobrir como as características de cada música se transformaram com o passar dos anos, de maneira que ao final da leitura do projeto, seja elucidado algumas informações que antes não estavam claras, ou que traga algo de novo e interessante para o leitor em questão."
   ]
  },
  {
   "cell_type": "markdown",
   "metadata": {},
   "source": [
    "![img](https://free4kwallpapers.com/uploads/originals/2021/01/20/music-wallpaper.jpg)"
   ]
  },
  {
   "cell_type": "markdown",
   "metadata": {},
   "source": [
    "# Perguntas"
   ]
  },
  {
   "cell_type": "markdown",
   "metadata": {},
   "source": [
    "Algumas perguntas são cruciais para a análise e compreensão final desse projeto, de tal forma que as respotas dessas indagações são o foco principal do trabalho."
   ]
  },
  {
   "cell_type": "markdown",
   "metadata": {},
   "source": [
    "### O projeto gira em torno das seguintes questões:\n",
    " * Se uma música é considerada triste, quais são as palavras que mais tendem a aparecer nas letras dessa canção ? E em músicas violentas ?\n",
    "\n",
    " * O grau de obscenidade das músicas atuais permanece no mesmo nível de canções mais antigas ?\n",
    "\n",
    " * Qual gênero musical é mais fácil de dançar ?\n",
    "\n",
    " * As músicas mais populares entre 2010 e 2019 têm alguma relação entre si ?\n",
    "\n",
    " * Qual o gênero musical mais ou menos popular entre 2010 e 2019 e quais tendem a crescer ou diminuir nos anos seguintes ?\n",
    "\n",
    " * A duração de uma música influencia na sua popularidade ? Existe uma duração específica para uma canção ter mais chance de se popularizar ?\n",
    "\n",
    " * Qual é o artista com mais músicas consideradas como \"hits\" entre 2010 e 2019 ? ( TALVEZ ESSA )"
   ]
  },
  {
   "cell_type": "markdown",
   "metadata": {},
   "source": [
    "# Dados\n"
   ]
  },
  {
   "cell_type": "markdown",
   "metadata": {},
   "source": [
    "O projeto tem como base dois conjuntos de dados, o primeiro é sobre as músicas mais populares na plataforma de streaming Spotify entre os anos de 2010 e 2019, 2019 incluso, já o segundo trata sobre músicas aleatórias lançadas entre 1950 e 2019. Ambos os conjuntos são tratados e discutidos mais a fundo no projeto. Os dados foram obtidos na plataforma de uso público Kaggle, de maneira que ambos os datasets são disponíveis para uso coletivo. Abaixo é explicado o significado de algumas palavras e termos para a melhor compreensão dos datasets."
   ]
  },
  {
   "cell_type": "markdown",
   "metadata": {},
   "source": [
    "Descrição do primeiro dataset (Músicas mais populares do Spotify de 2010 até 2019):\n",
    "\n",
    "- Esse dataset possui um total de 603 linhas e 15 colunas, em que cada linha representa uma música, a qual tem suas características definidas nas colunas correspondentes. Abaixo é descrito o que cada coluna significa;\n",
    "\n",
    "- title: Título da canção\n",
    "\n",
    "- artist: Artista da canção\n",
    "\n",
    "- top genre: Gênero musical da canção\n",
    "\n",
    "- year: Ano de lançamento da canção\n",
    "\n",
    "- bpm: Batidas por minutos da canção\n",
    "\n",
    "- nrgy: Índice de energia da canção (Quanto maior for o valor mais energética é a canção)\n",
    "\n",
    "- dnce: Índice de dançabilidade da canção (Quanto maior for o valor mais fácil é de dançar a canção)\n",
    "\n",
    "- dB: Decibéis da canção (são números negativos)\n",
    "\n",
    "- live: Índice de vivacidade da canção (Quanto maior for o valor mais provável da canção ser ao vivo)\n",
    "\n",
    "- val: Índice sentimental da canção (Quanto maior for o valor mais a canção é alegre/positiva)\n",
    "\n",
    "- dur: Duração da canção (Em segundos)\n",
    "\n",
    "- acous: Índice de acústica da canção (Quanto maior for o valor mais acústica é a música)\n",
    "\n",
    "- spch: Índice de fala da canção (Quanto maior for o valor mais palavras cantadas tem a música)\n",
    "\n",
    "- pop: Índice de popularidade da canção (Quanto maior for o valor mais popular é a música)\n"
   ]
  },
  {
   "cell_type": "markdown",
   "metadata": {},
   "source": [
    "Descrição do segundo dataset (Músicas de 1950 até 2019):\n",
    "\n",
    "- Esse dataset possui um total de 28.372  linhas e 31 colunas, em que, tal como o primeiro dataset, cada linha representa uma música, a qual tem suas características definidas nas colunas correspondentes. Abaixo é descrito o que cada coluna significa;\n",
    "\n",
    "- artist_name: Indica o artista da canção\n",
    "\n",
    "- track_name: Indica o título da canção\n",
    "\n",
    "- release_date: Indica o ano de lançamento da canção\n",
    "\n",
    "- genre: Indica o gênero musical da canção\n",
    "\n",
    "- lyrics: Letras da música\n",
    "\n",
    "- len: Indica a duração da música\n",
    "\n",
    "- dating: Índice do quanto a canção é ligada a assuntos sobre namoro\n",
    "\n",
    "- violence: Índice do quanto a canção é ligada é violenta\n",
    "\n",
    "- world/life: Índice do quanto a canção é ligada com a natureza\n",
    "\n",
    "- night/time: Índice do quanto a música é ligada com o período noturno\n",
    "\n",
    "- shake the audience: Índice do quanto a canção consegue movimentar a audiência\n",
    "\n",
    "- family/gospel: Índice do quanto a canção é ligada a assuntos de família e evangelho\n",
    "\n",
    "- romantic: Índice do quanto a canção é romântica\n",
    "\n",
    "- communication: Índice do quanto a canção é comunicativa em suas letras\n",
    "\n",
    "- obscene: Índice do quanto a canção é obscena\n",
    "\n",
    "- music: Índice do quanto a canção é considerada musical\n",
    "\n",
    "- movement/places: Índice do quanto a música demonstra a sensação de movimento\n",
    "\n",
    "- light/visual perceptions: Índice do quanto a música descreve percepções visuais\n",
    "\n",
    "- family/spiritual: Índice do quanto a canção é ligada a assuntos espirituais\n",
    "\n",
    "- like/girls: Índice do quanto a música é considerada feminina\n",
    "\n",
    "- sadness: Índice do quanto a música descreve é triste\n",
    "\n",
    "- danceability: Índice do quanto a canção é facil de ser dançada\n",
    "\n",
    "- loudness: Índice do quanto a música é alta\n",
    "\n",
    "- acousticness: Índice do quanto a música é acústica\n",
    "\n",
    "- instrumentalness: Índice do quanto a música é considerada instrumental\n",
    "\n",
    "- valence: Índice do quanto a canção é como positiva e alegre\n",
    "\n",
    "- energy: Índice do quanto a canção é energética\n",
    "\n",
    "- topic: Indica sobre o que a música se trata\n",
    "\n",
    "- age: Índice do quanto a canção fala sobre a idade das pessoas em suas letras"
   ]
  },
  {
   "cell_type": "markdown",
   "metadata": {},
   "source": [
    "### Bibliotecas utilizadas\n",
    "Para o melhor desenvolvimento e entedimento, não só do leitor, do projeto ao decorrer da sua leitura, é feito o uso de algumas bibliotecas que servem de base para a melhor análise, limpeza e processamento dos dados, e para a demonstração, de forma gráfica, de algumas informações e conclusões acerca do tema em questão;"
   ]
  },
  {
   "cell_type": "code",
   "execution_count": 30,
   "metadata": {},
   "outputs": [],
   "source": [
    "import pandas as pd\n",
    "import numpy as np\n",
    "import seaborn as sns\n",
    "import matplotlib.pyplot as plt\n",
    "\n",
    "from sklearn.cluster import KMeans\n",
    "from sklearn.preprocessing import MinMaxScaler"
   ]
  },
  {
   "cell_type": "markdown",
   "metadata": {},
   "source": [
    "### Com as bibliotecas necessárias para o desenvolvimento do projeto já incluídas, é possível iniciar a exploração dos dados\n",
    "Aqui é feita uma análise mais superficial dos datasets, todavia muito importante para o trabalho, que serve para decidir quais dados são mais úteis, quais não são e o quais informações são possíveis de serem extraídas desses dados."
   ]
  },
  {
   "cell_type": "code",
   "execution_count": 31,
   "metadata": {},
   "outputs": [],
   "source": [
    "data_2010_2019 = pd.read_csv(\"top10s.csv\")\n",
    "data_1950_2019 = pd.read_csv(\"1950-2019.csv\")\n",
    "first_df = pd.DataFrame(data_2010_2019)\n",
    "second_df = pd.DataFrame(data_1950_2019)"
   ]
  },
  {
   "cell_type": "markdown",
   "metadata": {},
   "source": [
    "Primeiro é feito a exploração do dataset que trata sobre as músicas mais populares do Spotify entre 2010 e 2019:"
   ]
  },
  {
   "cell_type": "code",
   "execution_count": 32,
   "metadata": {},
   "outputs": [
    {
     "data": {
      "text/html": [
       "<div>\n",
       "<style scoped>\n",
       "    .dataframe tbody tr th:only-of-type {\n",
       "        vertical-align: middle;\n",
       "    }\n",
       "\n",
       "    .dataframe tbody tr th {\n",
       "        vertical-align: top;\n",
       "    }\n",
       "\n",
       "    .dataframe thead th {\n",
       "        text-align: right;\n",
       "    }\n",
       "</style>\n",
       "<table border=\"1\" class=\"dataframe\">\n",
       "  <thead>\n",
       "    <tr style=\"text-align: right;\">\n",
       "      <th></th>\n",
       "      <th>Unnamed: 0</th>\n",
       "      <th>title</th>\n",
       "      <th>artist</th>\n",
       "      <th>top genre</th>\n",
       "      <th>year</th>\n",
       "      <th>bpm</th>\n",
       "      <th>nrgy</th>\n",
       "      <th>dnce</th>\n",
       "      <th>dB</th>\n",
       "      <th>live</th>\n",
       "      <th>val</th>\n",
       "      <th>dur</th>\n",
       "      <th>acous</th>\n",
       "      <th>spch</th>\n",
       "      <th>pop</th>\n",
       "    </tr>\n",
       "  </thead>\n",
       "  <tbody>\n",
       "    <tr>\n",
       "      <th>0</th>\n",
       "      <td>1</td>\n",
       "      <td>Hey, Soul Sister</td>\n",
       "      <td>Train</td>\n",
       "      <td>neo mellow</td>\n",
       "      <td>2010</td>\n",
       "      <td>97</td>\n",
       "      <td>89</td>\n",
       "      <td>67</td>\n",
       "      <td>-4</td>\n",
       "      <td>8</td>\n",
       "      <td>80</td>\n",
       "      <td>217</td>\n",
       "      <td>19</td>\n",
       "      <td>4</td>\n",
       "      <td>83</td>\n",
       "    </tr>\n",
       "    <tr>\n",
       "      <th>1</th>\n",
       "      <td>2</td>\n",
       "      <td>Love The Way You Lie</td>\n",
       "      <td>Eminem</td>\n",
       "      <td>detroit hip hop</td>\n",
       "      <td>2010</td>\n",
       "      <td>87</td>\n",
       "      <td>93</td>\n",
       "      <td>75</td>\n",
       "      <td>-5</td>\n",
       "      <td>52</td>\n",
       "      <td>64</td>\n",
       "      <td>263</td>\n",
       "      <td>24</td>\n",
       "      <td>23</td>\n",
       "      <td>82</td>\n",
       "    </tr>\n",
       "    <tr>\n",
       "      <th>2</th>\n",
       "      <td>3</td>\n",
       "      <td>TiK ToK</td>\n",
       "      <td>Kesha</td>\n",
       "      <td>dance pop</td>\n",
       "      <td>2010</td>\n",
       "      <td>120</td>\n",
       "      <td>84</td>\n",
       "      <td>76</td>\n",
       "      <td>-3</td>\n",
       "      <td>29</td>\n",
       "      <td>71</td>\n",
       "      <td>200</td>\n",
       "      <td>10</td>\n",
       "      <td>14</td>\n",
       "      <td>80</td>\n",
       "    </tr>\n",
       "    <tr>\n",
       "      <th>3</th>\n",
       "      <td>4</td>\n",
       "      <td>Bad Romance</td>\n",
       "      <td>Lady Gaga</td>\n",
       "      <td>dance pop</td>\n",
       "      <td>2010</td>\n",
       "      <td>119</td>\n",
       "      <td>92</td>\n",
       "      <td>70</td>\n",
       "      <td>-4</td>\n",
       "      <td>8</td>\n",
       "      <td>71</td>\n",
       "      <td>295</td>\n",
       "      <td>0</td>\n",
       "      <td>4</td>\n",
       "      <td>79</td>\n",
       "    </tr>\n",
       "    <tr>\n",
       "      <th>4</th>\n",
       "      <td>5</td>\n",
       "      <td>Just the Way You Are</td>\n",
       "      <td>Bruno Mars</td>\n",
       "      <td>pop</td>\n",
       "      <td>2010</td>\n",
       "      <td>109</td>\n",
       "      <td>84</td>\n",
       "      <td>64</td>\n",
       "      <td>-5</td>\n",
       "      <td>9</td>\n",
       "      <td>43</td>\n",
       "      <td>221</td>\n",
       "      <td>2</td>\n",
       "      <td>4</td>\n",
       "      <td>78</td>\n",
       "    </tr>\n",
       "  </tbody>\n",
       "</table>\n",
       "</div>"
      ],
      "text/plain": [
       "   Unnamed: 0                 title      artist        top genre  year  bpm  \\\n",
       "0           1      Hey, Soul Sister       Train       neo mellow  2010   97   \n",
       "1           2  Love The Way You Lie      Eminem  detroit hip hop  2010   87   \n",
       "2           3               TiK ToK       Kesha        dance pop  2010  120   \n",
       "3           4           Bad Romance   Lady Gaga        dance pop  2010  119   \n",
       "4           5  Just the Way You Are  Bruno Mars              pop  2010  109   \n",
       "\n",
       "   nrgy  dnce  dB  live  val  dur  acous  spch  pop  \n",
       "0    89    67  -4     8   80  217     19     4   83  \n",
       "1    93    75  -5    52   64  263     24    23   82  \n",
       "2    84    76  -3    29   71  200     10    14   80  \n",
       "3    92    70  -4     8   71  295      0     4   79  \n",
       "4    84    64  -5     9   43  221      2     4   78  "
      ]
     },
     "execution_count": 32,
     "metadata": {},
     "output_type": "execute_result"
    }
   ],
   "source": [
    "first_df.head()"
   ]
  }
 ],
 "metadata": {
  "interpreter": {
   "hash": "916dbcbb3f70747c44a77c7bcd40155683ae19c65e1c03b4aa3499c5328201f1"
  },
  "kernelspec": {
   "display_name": "Python 3.8.10 64-bit",
   "language": "python",
   "name": "python3"
  },
  "language_info": {
   "codemirror_mode": {
    "name": "ipython",
    "version": 3
   },
   "file_extension": ".py",
   "mimetype": "text/x-python",
   "name": "python",
   "nbconvert_exporter": "python",
   "pygments_lexer": "ipython3",
   "version": "3.8.10"
  },
  "orig_nbformat": 4
 },
 "nbformat": 4,
 "nbformat_minor": 2
}
